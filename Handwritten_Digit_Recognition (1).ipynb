{
  "cells": [
    {
      "cell_type": "markdown",
      "metadata": {
        "id": "js94PkkgjSlf"
      },
      "source": [
        "# Handwritten Digit Recognition:"
      ]
    },
    {
      "cell_type": "markdown",
      "metadata": {
        "id": "QMh1zhacjSlo"
      },
      "source": [
        "![](https://earimediaprodweb.azurewebsites.net/Api/v1/Multimedia/e26a3c9e-c91f-4313-9d0c-164043d59f40/Rendition/low-res/Content/Public)"
      ]
    },
    {
      "cell_type": "markdown",
      "metadata": {
        "id": "i2B2pScsjSlq"
      },
      "source": [
        "## Introduction:\n",
        "* We are going to use MNIST Data set to train an artificial neural network mode for hand written digit classification.\n",
        "* We will use `tenserflow` with `keras` library to download and impliment our model."
      ]
    },
    {
      "cell_type": "markdown",
      "metadata": {
        "id": "RYLS6tDDjSlr"
      },
      "source": [
        "## MNIST Dataset:\n",
        "* MNIST dataset has collection of 70,000 hand written digits(0 to 9).\n",
        "* Pixcel of these images are very low i.e., `28x28`.\n",
        "* Every image is a single digit.\n",
        "* This dataset is very famous in the DS field.\n",
        "* Important part is we can download in Train & Test formate directly using `keras`.\n",
        "So, Let's get started!"
      ]
    },
    {
      "cell_type": "markdown",
      "metadata": {
        "id": "PKrO3t45jSlt"
      },
      "source": [
        "## Step 1: Installing & Importing The Libraries:"
      ]
    },
    {
      "cell_type": "code",
      "execution_count": 48,
      "metadata": {
        "colab": {
          "base_uri": "https://localhost:8080/"
        },
        "id": "CkZD1QgMPtx1",
        "outputId": "93182abb-ef39-4299-9e6d-6b7ce61330db"
      },
      "outputs": [
        {
          "output_type": "stream",
          "name": "stdout",
          "text": [
            "Looking in indexes: https://pypi.org/simple, https://us-python.pkg.dev/colab-wheels/public/simple/\n",
            "Requirement already satisfied: tensorflow in /usr/local/lib/python3.8/dist-packages (2.9.2)\n",
            "Requirement already satisfied: astunparse>=1.6.0 in /usr/local/lib/python3.8/dist-packages (from tensorflow) (1.6.3)\n",
            "Requirement already satisfied: numpy>=1.20 in /usr/local/lib/python3.8/dist-packages (from tensorflow) (1.21.6)\n",
            "Requirement already satisfied: wrapt>=1.11.0 in /usr/local/lib/python3.8/dist-packages (from tensorflow) (1.14.1)\n",
            "Requirement already satisfied: tensorboard<2.10,>=2.9 in /usr/local/lib/python3.8/dist-packages (from tensorflow) (2.9.1)\n",
            "Requirement already satisfied: packaging in /usr/local/lib/python3.8/dist-packages (from tensorflow) (21.3)\n",
            "Requirement already satisfied: setuptools in /usr/local/lib/python3.8/dist-packages (from tensorflow) (57.4.0)\n",
            "Requirement already satisfied: opt-einsum>=2.3.2 in /usr/local/lib/python3.8/dist-packages (from tensorflow) (3.3.0)\n",
            "Requirement already satisfied: absl-py>=1.0.0 in /usr/local/lib/python3.8/dist-packages (from tensorflow) (1.3.0)\n",
            "Requirement already satisfied: six>=1.12.0 in /usr/local/lib/python3.8/dist-packages (from tensorflow) (1.15.0)\n",
            "Requirement already satisfied: tensorflow-estimator<2.10.0,>=2.9.0rc0 in /usr/local/lib/python3.8/dist-packages (from tensorflow) (2.9.0)\n",
            "Requirement already satisfied: tensorflow-io-gcs-filesystem>=0.23.1 in /usr/local/lib/python3.8/dist-packages (from tensorflow) (0.29.0)\n",
            "Requirement already satisfied: protobuf<3.20,>=3.9.2 in /usr/local/lib/python3.8/dist-packages (from tensorflow) (3.19.6)\n",
            "Requirement already satisfied: google-pasta>=0.1.1 in /usr/local/lib/python3.8/dist-packages (from tensorflow) (0.2.0)\n",
            "Requirement already satisfied: keras-preprocessing>=1.1.1 in /usr/local/lib/python3.8/dist-packages (from tensorflow) (1.1.2)\n",
            "Requirement already satisfied: gast<=0.4.0,>=0.2.1 in /usr/local/lib/python3.8/dist-packages (from tensorflow) (0.4.0)\n",
            "Requirement already satisfied: h5py>=2.9.0 in /usr/local/lib/python3.8/dist-packages (from tensorflow) (3.1.0)\n",
            "Requirement already satisfied: termcolor>=1.1.0 in /usr/local/lib/python3.8/dist-packages (from tensorflow) (2.2.0)\n",
            "Requirement already satisfied: typing-extensions>=3.6.6 in /usr/local/lib/python3.8/dist-packages (from tensorflow) (4.4.0)\n",
            "Requirement already satisfied: keras<2.10.0,>=2.9.0rc0 in /usr/local/lib/python3.8/dist-packages (from tensorflow) (2.9.0)\n",
            "Requirement already satisfied: grpcio<2.0,>=1.24.3 in /usr/local/lib/python3.8/dist-packages (from tensorflow) (1.51.1)\n",
            "Requirement already satisfied: flatbuffers<2,>=1.12 in /usr/local/lib/python3.8/dist-packages (from tensorflow) (1.12)\n",
            "Requirement already satisfied: libclang>=13.0.0 in /usr/local/lib/python3.8/dist-packages (from tensorflow) (15.0.6.1)\n",
            "Requirement already satisfied: wheel<1.0,>=0.23.0 in /usr/local/lib/python3.8/dist-packages (from astunparse>=1.6.0->tensorflow) (0.38.4)\n",
            "Requirement already satisfied: markdown>=2.6.8 in /usr/local/lib/python3.8/dist-packages (from tensorboard<2.10,>=2.9->tensorflow) (3.4.1)\n",
            "Requirement already satisfied: tensorboard-data-server<0.7.0,>=0.6.0 in /usr/local/lib/python3.8/dist-packages (from tensorboard<2.10,>=2.9->tensorflow) (0.6.1)\n",
            "Requirement already satisfied: tensorboard-plugin-wit>=1.6.0 in /usr/local/lib/python3.8/dist-packages (from tensorboard<2.10,>=2.9->tensorflow) (1.8.1)\n",
            "Requirement already satisfied: google-auth<3,>=1.6.3 in /usr/local/lib/python3.8/dist-packages (from tensorboard<2.10,>=2.9->tensorflow) (2.16.0)\n",
            "Requirement already satisfied: requests<3,>=2.21.0 in /usr/local/lib/python3.8/dist-packages (from tensorboard<2.10,>=2.9->tensorflow) (2.25.1)\n",
            "Requirement already satisfied: google-auth-oauthlib<0.5,>=0.4.1 in /usr/local/lib/python3.8/dist-packages (from tensorboard<2.10,>=2.9->tensorflow) (0.4.6)\n",
            "Requirement already satisfied: werkzeug>=1.0.1 in /usr/local/lib/python3.8/dist-packages (from tensorboard<2.10,>=2.9->tensorflow) (1.0.1)\n",
            "Requirement already satisfied: pyparsing!=3.0.5,>=2.0.2 in /usr/local/lib/python3.8/dist-packages (from packaging->tensorflow) (3.0.9)\n",
            "Requirement already satisfied: rsa<5,>=3.1.4 in /usr/local/lib/python3.8/dist-packages (from google-auth<3,>=1.6.3->tensorboard<2.10,>=2.9->tensorflow) (4.9)\n",
            "Requirement already satisfied: pyasn1-modules>=0.2.1 in /usr/local/lib/python3.8/dist-packages (from google-auth<3,>=1.6.3->tensorboard<2.10,>=2.9->tensorflow) (0.2.8)\n",
            "Requirement already satisfied: cachetools<6.0,>=2.0.0 in /usr/local/lib/python3.8/dist-packages (from google-auth<3,>=1.6.3->tensorboard<2.10,>=2.9->tensorflow) (5.2.1)\n",
            "Requirement already satisfied: requests-oauthlib>=0.7.0 in /usr/local/lib/python3.8/dist-packages (from google-auth-oauthlib<0.5,>=0.4.1->tensorboard<2.10,>=2.9->tensorflow) (1.3.1)\n",
            "Requirement already satisfied: importlib-metadata>=4.4 in /usr/local/lib/python3.8/dist-packages (from markdown>=2.6.8->tensorboard<2.10,>=2.9->tensorflow) (6.0.0)\n",
            "Requirement already satisfied: certifi>=2017.4.17 in /usr/local/lib/python3.8/dist-packages (from requests<3,>=2.21.0->tensorboard<2.10,>=2.9->tensorflow) (2022.12.7)\n",
            "Requirement already satisfied: idna<3,>=2.5 in /usr/local/lib/python3.8/dist-packages (from requests<3,>=2.21.0->tensorboard<2.10,>=2.9->tensorflow) (2.10)\n",
            "Requirement already satisfied: chardet<5,>=3.0.2 in /usr/local/lib/python3.8/dist-packages (from requests<3,>=2.21.0->tensorboard<2.10,>=2.9->tensorflow) (4.0.0)\n",
            "Requirement already satisfied: urllib3<1.27,>=1.21.1 in /usr/local/lib/python3.8/dist-packages (from requests<3,>=2.21.0->tensorboard<2.10,>=2.9->tensorflow) (1.24.3)\n",
            "Requirement already satisfied: zipp>=0.5 in /usr/local/lib/python3.8/dist-packages (from importlib-metadata>=4.4->markdown>=2.6.8->tensorboard<2.10,>=2.9->tensorflow) (3.11.0)\n",
            "Requirement already satisfied: pyasn1<0.5.0,>=0.4.6 in /usr/local/lib/python3.8/dist-packages (from pyasn1-modules>=0.2.1->google-auth<3,>=1.6.3->tensorboard<2.10,>=2.9->tensorflow) (0.4.8)\n",
            "Requirement already satisfied: oauthlib>=3.0.0 in /usr/local/lib/python3.8/dist-packages (from requests-oauthlib>=0.7.0->google-auth-oauthlib<0.5,>=0.4.1->tensorboard<2.10,>=2.9->tensorflow) (3.2.2)\n",
            "Looking in indexes: https://pypi.org/simple, https://us-python.pkg.dev/colab-wheels/public/simple/\n",
            "Requirement already satisfied: Sequential in /usr/local/lib/python3.8/dist-packages (1.0.0)\n"
          ]
        }
      ],
      "source": [
        "# Installing and importing the important libraries\n",
        "!pip install tensorflow;\n",
        "!pip install Sequential\n",
        "import numpy as np ;\n",
        "import tensorflow as tf;\n",
        "from tensorflow import keras"
      ]
    },
    {
      "cell_type": "markdown",
      "metadata": {
        "id": "orGLX5_BjSly"
      },
      "source": [
        "###  > We can check the Tensorflow Version:"
      ]
    },
    {
      "cell_type": "code",
      "execution_count": 49,
      "metadata": {
        "colab": {
          "base_uri": "https://localhost:8080/",
          "height": 35
        },
        "id": "DB4sKllyQV_X",
        "outputId": "ad7b933e-aa01-417e-fe62-f5fe774d1564"
      },
      "outputs": [
        {
          "output_type": "execute_result",
          "data": {
            "text/plain": [
              "'2.9.2'"
            ],
            "application/vnd.google.colaboratory.intrinsic+json": {
              "type": "string"
            }
          },
          "metadata": {},
          "execution_count": 49
        }
      ],
      "source": [
        "# Checking the version of Tensor Flow\n",
        "tf.__version__"
      ]
    },
    {
      "cell_type": "markdown",
      "metadata": {
        "id": "X4g9g61BjSl0"
      },
      "source": [
        "## Step 2: Loding The Dataset & Spliting Into `train`&`test`Part:"
      ]
    },
    {
      "cell_type": "code",
      "execution_count": 50,
      "metadata": {
        "id": "3p9nwNg7QxMh"
      },
      "outputs": [],
      "source": [
        "# Loding and preparing the MNIST dataset\n",
        "(x_train,y_train),(x_test,y_test)=tf.keras.datasets.mnist.load_data()"
      ]
    },
    {
      "cell_type": "markdown",
      "metadata": {
        "id": "Y4CdTgtUjSl2"
      },
      "source": [
        "### > We can check the `shape`;"
      ]
    },
    {
      "cell_type": "code",
      "execution_count": 51,
      "metadata": {
        "colab": {
          "base_uri": "https://localhost:8080/"
        },
        "id": "3_lOlnBXafTK",
        "outputId": "accf8401-94b9-4d1a-ea7b-90da1902f5e5"
      },
      "outputs": [
        {
          "output_type": "stream",
          "name": "stdout",
          "text": [
            "(60000, 28, 28)\n",
            "(60000,)\n",
            "(10000, 28, 28)\n",
            "(10000,)\n"
          ]
        }
      ],
      "source": [
        "# Let's see the shape of our data\n",
        "print(x_train.shape)\n",
        "print(y_train.shape)\n",
        "print(x_test.shape)\n",
        "print(y_test.shape)"
      ]
    },
    {
      "cell_type": "markdown",
      "metadata": {
        "id": "I54M42RPjSl4"
      },
      "source": [
        "### > Let's see the `train` dataset:"
      ]
    },
    {
      "cell_type": "code",
      "execution_count": 52,
      "metadata": {
        "colab": {
          "base_uri": "https://localhost:8080/"
        },
        "id": "RbuPEDODb-_c",
        "outputId": "d35d6f95-f995-4f1f-edb5-02fe462144df"
      },
      "outputs": [
        {
          "output_type": "execute_result",
          "data": {
            "text/plain": [
              "array([[[0, 0, 0, ..., 0, 0, 0],\n",
              "        [0, 0, 0, ..., 0, 0, 0],\n",
              "        [0, 0, 0, ..., 0, 0, 0],\n",
              "        ...,\n",
              "        [0, 0, 0, ..., 0, 0, 0],\n",
              "        [0, 0, 0, ..., 0, 0, 0],\n",
              "        [0, 0, 0, ..., 0, 0, 0]],\n",
              "\n",
              "       [[0, 0, 0, ..., 0, 0, 0],\n",
              "        [0, 0, 0, ..., 0, 0, 0],\n",
              "        [0, 0, 0, ..., 0, 0, 0],\n",
              "        ...,\n",
              "        [0, 0, 0, ..., 0, 0, 0],\n",
              "        [0, 0, 0, ..., 0, 0, 0],\n",
              "        [0, 0, 0, ..., 0, 0, 0]],\n",
              "\n",
              "       [[0, 0, 0, ..., 0, 0, 0],\n",
              "        [0, 0, 0, ..., 0, 0, 0],\n",
              "        [0, 0, 0, ..., 0, 0, 0],\n",
              "        ...,\n",
              "        [0, 0, 0, ..., 0, 0, 0],\n",
              "        [0, 0, 0, ..., 0, 0, 0],\n",
              "        [0, 0, 0, ..., 0, 0, 0]],\n",
              "\n",
              "       ...,\n",
              "\n",
              "       [[0, 0, 0, ..., 0, 0, 0],\n",
              "        [0, 0, 0, ..., 0, 0, 0],\n",
              "        [0, 0, 0, ..., 0, 0, 0],\n",
              "        ...,\n",
              "        [0, 0, 0, ..., 0, 0, 0],\n",
              "        [0, 0, 0, ..., 0, 0, 0],\n",
              "        [0, 0, 0, ..., 0, 0, 0]],\n",
              "\n",
              "       [[0, 0, 0, ..., 0, 0, 0],\n",
              "        [0, 0, 0, ..., 0, 0, 0],\n",
              "        [0, 0, 0, ..., 0, 0, 0],\n",
              "        ...,\n",
              "        [0, 0, 0, ..., 0, 0, 0],\n",
              "        [0, 0, 0, ..., 0, 0, 0],\n",
              "        [0, 0, 0, ..., 0, 0, 0]],\n",
              "\n",
              "       [[0, 0, 0, ..., 0, 0, 0],\n",
              "        [0, 0, 0, ..., 0, 0, 0],\n",
              "        [0, 0, 0, ..., 0, 0, 0],\n",
              "        ...,\n",
              "        [0, 0, 0, ..., 0, 0, 0],\n",
              "        [0, 0, 0, ..., 0, 0, 0],\n",
              "        [0, 0, 0, ..., 0, 0, 0]]], dtype=uint8)"
            ]
          },
          "metadata": {},
          "execution_count": 52
        }
      ],
      "source": [
        "# Let's see how data is stored \n",
        "x_train"
      ]
    },
    {
      "cell_type": "markdown",
      "metadata": {
        "id": "tjiLDufDjSl5"
      },
      "source": [
        "### > Let's see the first element of `train` dataset:"
      ]
    },
    {
      "cell_type": "code",
      "execution_count": 53,
      "metadata": {
        "colab": {
          "base_uri": "https://localhost:8080/"
        },
        "id": "xaQxJwNFc1Et",
        "outputId": "fe8ae524-44c6-4e65-c1bd-e411d2c34aab"
      },
      "outputs": [
        {
          "output_type": "execute_result",
          "data": {
            "text/plain": [
              "array([[  0,   0,   0,   0,   0,   0,   0,   0,   0,   0,   0,   0,   0,\n",
              "          0,   0,   0,   0,   0,   0,   0,   0,   0,   0,   0,   0,   0,\n",
              "          0,   0],\n",
              "       [  0,   0,   0,   0,   0,   0,   0,   0,   0,   0,   0,   0,   0,\n",
              "          0,   0,   0,   0,   0,   0,   0,   0,   0,   0,   0,   0,   0,\n",
              "          0,   0],\n",
              "       [  0,   0,   0,   0,   0,   0,   0,   0,   0,   0,   0,   0,   0,\n",
              "          0,   0,   0,   0,   0,   0,   0,   0,   0,   0,   0,   0,   0,\n",
              "          0,   0],\n",
              "       [  0,   0,   0,   0,   0,   0,   0,   0,   0,   0,   0,   0,   0,\n",
              "          0,   0,   0,   0,   0,   0,   0,   0,   0,   0,   0,   0,   0,\n",
              "          0,   0],\n",
              "       [  0,   0,   0,   0,   0,   0,   0,   0,   0,   0,   0,   0,   0,\n",
              "          0,   0,   0,   0,   0,   0,   0,   0,   0,   0,   0,   0,   0,\n",
              "          0,   0],\n",
              "       [  0,   0,   0,   0,   0,   0,   0,   0,   0,   0,   0,   0,   3,\n",
              "         18,  18,  18, 126, 136, 175,  26, 166, 255, 247, 127,   0,   0,\n",
              "          0,   0],\n",
              "       [  0,   0,   0,   0,   0,   0,   0,   0,  30,  36,  94, 154, 170,\n",
              "        253, 253, 253, 253, 253, 225, 172, 253, 242, 195,  64,   0,   0,\n",
              "          0,   0],\n",
              "       [  0,   0,   0,   0,   0,   0,   0,  49, 238, 253, 253, 253, 253,\n",
              "        253, 253, 253, 253, 251,  93,  82,  82,  56,  39,   0,   0,   0,\n",
              "          0,   0],\n",
              "       [  0,   0,   0,   0,   0,   0,   0,  18, 219, 253, 253, 253, 253,\n",
              "        253, 198, 182, 247, 241,   0,   0,   0,   0,   0,   0,   0,   0,\n",
              "          0,   0],\n",
              "       [  0,   0,   0,   0,   0,   0,   0,   0,  80, 156, 107, 253, 253,\n",
              "        205,  11,   0,  43, 154,   0,   0,   0,   0,   0,   0,   0,   0,\n",
              "          0,   0],\n",
              "       [  0,   0,   0,   0,   0,   0,   0,   0,   0,  14,   1, 154, 253,\n",
              "         90,   0,   0,   0,   0,   0,   0,   0,   0,   0,   0,   0,   0,\n",
              "          0,   0],\n",
              "       [  0,   0,   0,   0,   0,   0,   0,   0,   0,   0,   0, 139, 253,\n",
              "        190,   2,   0,   0,   0,   0,   0,   0,   0,   0,   0,   0,   0,\n",
              "          0,   0],\n",
              "       [  0,   0,   0,   0,   0,   0,   0,   0,   0,   0,   0,  11, 190,\n",
              "        253,  70,   0,   0,   0,   0,   0,   0,   0,   0,   0,   0,   0,\n",
              "          0,   0],\n",
              "       [  0,   0,   0,   0,   0,   0,   0,   0,   0,   0,   0,   0,  35,\n",
              "        241, 225, 160, 108,   1,   0,   0,   0,   0,   0,   0,   0,   0,\n",
              "          0,   0],\n",
              "       [  0,   0,   0,   0,   0,   0,   0,   0,   0,   0,   0,   0,   0,\n",
              "         81, 240, 253, 253, 119,  25,   0,   0,   0,   0,   0,   0,   0,\n",
              "          0,   0],\n",
              "       [  0,   0,   0,   0,   0,   0,   0,   0,   0,   0,   0,   0,   0,\n",
              "          0,  45, 186, 253, 253, 150,  27,   0,   0,   0,   0,   0,   0,\n",
              "          0,   0],\n",
              "       [  0,   0,   0,   0,   0,   0,   0,   0,   0,   0,   0,   0,   0,\n",
              "          0,   0,  16,  93, 252, 253, 187,   0,   0,   0,   0,   0,   0,\n",
              "          0,   0],\n",
              "       [  0,   0,   0,   0,   0,   0,   0,   0,   0,   0,   0,   0,   0,\n",
              "          0,   0,   0,   0, 249, 253, 249,  64,   0,   0,   0,   0,   0,\n",
              "          0,   0],\n",
              "       [  0,   0,   0,   0,   0,   0,   0,   0,   0,   0,   0,   0,   0,\n",
              "          0,  46, 130, 183, 253, 253, 207,   2,   0,   0,   0,   0,   0,\n",
              "          0,   0],\n",
              "       [  0,   0,   0,   0,   0,   0,   0,   0,   0,   0,   0,   0,  39,\n",
              "        148, 229, 253, 253, 253, 250, 182,   0,   0,   0,   0,   0,   0,\n",
              "          0,   0],\n",
              "       [  0,   0,   0,   0,   0,   0,   0,   0,   0,   0,  24, 114, 221,\n",
              "        253, 253, 253, 253, 201,  78,   0,   0,   0,   0,   0,   0,   0,\n",
              "          0,   0],\n",
              "       [  0,   0,   0,   0,   0,   0,   0,   0,  23,  66, 213, 253, 253,\n",
              "        253, 253, 198,  81,   2,   0,   0,   0,   0,   0,   0,   0,   0,\n",
              "          0,   0],\n",
              "       [  0,   0,   0,   0,   0,   0,  18, 171, 219, 253, 253, 253, 253,\n",
              "        195,  80,   9,   0,   0,   0,   0,   0,   0,   0,   0,   0,   0,\n",
              "          0,   0],\n",
              "       [  0,   0,   0,   0,  55, 172, 226, 253, 253, 253, 253, 244, 133,\n",
              "         11,   0,   0,   0,   0,   0,   0,   0,   0,   0,   0,   0,   0,\n",
              "          0,   0],\n",
              "       [  0,   0,   0,   0, 136, 253, 253, 253, 212, 135, 132,  16,   0,\n",
              "          0,   0,   0,   0,   0,   0,   0,   0,   0,   0,   0,   0,   0,\n",
              "          0,   0],\n",
              "       [  0,   0,   0,   0,   0,   0,   0,   0,   0,   0,   0,   0,   0,\n",
              "          0,   0,   0,   0,   0,   0,   0,   0,   0,   0,   0,   0,   0,\n",
              "          0,   0],\n",
              "       [  0,   0,   0,   0,   0,   0,   0,   0,   0,   0,   0,   0,   0,\n",
              "          0,   0,   0,   0,   0,   0,   0,   0,   0,   0,   0,   0,   0,\n",
              "          0,   0],\n",
              "       [  0,   0,   0,   0,   0,   0,   0,   0,   0,   0,   0,   0,   0,\n",
              "          0,   0,   0,   0,   0,   0,   0,   0,   0,   0,   0,   0,   0,\n",
              "          0,   0]], dtype=uint8)"
            ]
          },
          "metadata": {},
          "execution_count": 53
        }
      ],
      "source": [
        "# Let's see only one data\n",
        "x_train[0]"
      ]
    },
    {
      "cell_type": "markdown",
      "metadata": {
        "id": "1-YRZ09ojSl6"
      },
      "source": [
        "### > Let's visualize the first element of `train` dataset:"
      ]
    },
    {
      "cell_type": "code",
      "execution_count": 54,
      "metadata": {
        "colab": {
          "base_uri": "https://localhost:8080/",
          "height": 282
        },
        "id": "AdjwnQXZdQAw",
        "outputId": "528fbb3c-791b-4cf3-baf8-c25bb77b5d2a"
      },
      "outputs": [
        {
          "output_type": "stream",
          "name": "stdout",
          "text": [
            "The label of x_train[0] is: 5\n"
          ]
        },
        {
          "output_type": "display_data",
          "data": {
            "text/plain": [
              "<Figure size 432x288 with 1 Axes>"
            ],
            "image/png": "[encoded data removed]"
          },
          "metadata": {
            "needs_background": "light"
          }
        }
      ],
      "source": [
        "# Let's see the data in actual image \n",
        "import matplotlib.pyplot as plt\n",
        "plt.imshow(x_train[0])\n",
        "print(\"The label of x_train[0] is:\",y_train[0])"
      ]
    },
    {
      "cell_type": "markdown",
      "metadata": {
        "id": "MHcNwEx6ftNf"
      },
      "source": [
        "## Step 3: Normalizing The `train` & `test` Dataset:"
      ]
    },
    {
      "cell_type": "code",
      "execution_count": 55,
      "metadata": {
        "id": "Jw36kUlGR0n0"
      },
      "outputs": [],
      "source": [
        "# Now let's normalize the data so that pixel value is between 0 & 1\n",
        "x_train,x_test=x_train/255.0, x_test/255.0"
      ]
    },
    {
      "cell_type": "code",
      "execution_count": 56,
      "metadata": {
        "colab": {
          "base_uri": "https://localhost:8080/"
        },
        "id": "oxGED-nFihaW",
        "outputId": "e3557b5d-b22c-4357-c013-0f860bf135da"
      },
      "outputs": [
        {
          "output_type": "execute_result",
          "data": {
            "text/plain": [
              "array([[0.        , 0.        , 0.        , 0.        , 0.        ,\n",
              "        0.        , 0.        , 0.        , 0.        , 0.        ,\n",
              "        0.        , 0.        , 0.        , 0.        , 0.        ,\n",
              "        0.        , 0.        , 0.        , 0.        , 0.        ,\n",
              "        0.        , 0.        , 0.        , 0.        , 0.        ,\n",
              "        0.        , 0.        , 0.        ],\n",
              "       [0.        , 0.        , 0.        , 0.        , 0.        ,\n",
              "        0.        , 0.        , 0.        , 0.        , 0.        ,\n",
              "        0.        , 0.        , 0.        , 0.        , 0.        ,\n",
              "        0.        , 0.        , 0.        , 0.        , 0.        ,\n",
              "        0.        , 0.        , 0.        , 0.        , 0.        ,\n",
              "        0.        , 0.        , 0.        ],\n",
              "       [0.        , 0.        , 0.        , 0.        , 0.        ,\n",
              "        0.        , 0.        , 0.        , 0.        , 0.        ,\n",
              "        0.        , 0.        , 0.        , 0.        , 0.        ,\n",
              "        0.        , 0.        , 0.        , 0.        , 0.        ,\n",
              "        0.        , 0.        , 0.        , 0.        , 0.        ,\n",
              "        0.        , 0.        , 0.        ],\n",
              "       [0.        , 0.        , 0.        , 0.        , 0.        ,\n",
              "        0.        , 0.        , 0.        , 0.        , 0.        ,\n",
              "        0.        , 0.        , 0.        , 0.        , 0.        ,\n",
              "        0.        , 0.        , 0.        , 0.        , 0.        ,\n",
              "        0.        , 0.        , 0.        , 0.        , 0.        ,\n",
              "        0.        , 0.        , 0.        ],\n",
              "       [0.        , 0.        , 0.        , 0.        , 0.        ,\n",
              "        0.        , 0.        , 0.        , 0.        , 0.        ,\n",
              "        0.        , 0.        , 0.        , 0.        , 0.        ,\n",
              "        0.        , 0.        , 0.        , 0.        , 0.        ,\n",
              "        0.        , 0.        , 0.        , 0.        , 0.        ,\n",
              "        0.        , 0.        , 0.        ],\n",
              "       [0.        , 0.        , 0.        , 0.        , 0.        ,\n",
              "        0.        , 0.        , 0.        , 0.        , 0.        ,\n",
              "        0.        , 0.        , 0.01176471, 0.07058824, 0.07058824,\n",
              "        0.07058824, 0.49411765, 0.53333333, 0.68627451, 0.10196078,\n",
              "        0.65098039, 1.        , 0.96862745, 0.49803922, 0.        ,\n",
              "        0.        , 0.        , 0.        ],\n",
              "       [0.        , 0.        , 0.        , 0.        , 0.        ,\n",
              "        0.        , 0.        , 0.        , 0.11764706, 0.14117647,\n",
              "        0.36862745, 0.60392157, 0.66666667, 0.99215686, 0.99215686,\n",
              "        0.99215686, 0.99215686, 0.99215686, 0.88235294, 0.6745098 ,\n",
              "        0.99215686, 0.94901961, 0.76470588, 0.25098039, 0.        ,\n",
              "        0.        , 0.        , 0.        ],\n",
              "       [0.        , 0.        , 0.        , 0.        , 0.        ,\n",
              "        0.        , 0.        , 0.19215686, 0.93333333, 0.99215686,\n",
              "        0.99215686, 0.99215686, 0.99215686, 0.99215686, 0.99215686,\n",
              "        0.99215686, 0.99215686, 0.98431373, 0.36470588, 0.32156863,\n",
              "        0.32156863, 0.21960784, 0.15294118, 0.        , 0.        ,\n",
              "        0.        , 0.        , 0.        ],\n",
              "       [0.        , 0.        , 0.        , 0.        , 0.        ,\n",
              "        0.        , 0.        , 0.07058824, 0.85882353, 0.99215686,\n",
              "        0.99215686, 0.99215686, 0.99215686, 0.99215686, 0.77647059,\n",
              "        0.71372549, 0.96862745, 0.94509804, 0.        , 0.        ,\n",
              "        0.        , 0.        , 0.        , 0.        , 0.        ,\n",
              "        0.        , 0.        , 0.        ],\n",
              "       [0.        , 0.        , 0.        , 0.        , 0.        ,\n",
              "        0.        , 0.        , 0.        , 0.31372549, 0.61176471,\n",
              "        0.41960784, 0.99215686, 0.99215686, 0.80392157, 0.04313725,\n",
              "        0.        , 0.16862745, 0.60392157, 0.        , 0.        ,\n",
              "        0.        , 0.        , 0.        , 0.        , 0.        ,\n",
              "        0.        , 0.        , 0.        ],\n",
              "       [0.        , 0.        , 0.        , 0.        , 0.        ,\n",
              "        0.        , 0.        , 0.        , 0.        , 0.05490196,\n",
              "        0.00392157, 0.60392157, 0.99215686, 0.35294118, 0.        ,\n",
              "        0.        , 0.        , 0.        , 0.        , 0.        ,\n",
              "        0.        , 0.        , 0.        , 0.        , 0.        ,\n",
              "        0.        , 0.        , 0.        ],\n",
              "       [0.        , 0.        , 0.        , 0.        , 0.        ,\n",
              "        0.        , 0.        , 0.        , 0.        , 0.        ,\n",
              "        0.        , 0.54509804, 0.99215686, 0.74509804, 0.00784314,\n",
              "        0.        , 0.        , 0.        , 0.        , 0.        ,\n",
              "        0.        , 0.        , 0.        , 0.        , 0.        ,\n",
              "        0.        , 0.        , 0.        ],\n",
              "       [0.        , 0.        , 0.        , 0.        , 0.        ,\n",
              "        0.        , 0.        , 0.        , 0.        , 0.        ,\n",
              "        0.        , 0.04313725, 0.74509804, 0.99215686, 0.2745098 ,\n",
              "        0.        , 0.        , 0.        , 0.        , 0.        ,\n",
              "        0.        , 0.        , 0.        , 0.        , 0.        ,\n",
              "        0.        , 0.        , 0.        ],\n",
              "       [0.        , 0.        , 0.        , 0.        , 0.        ,\n",
              "        0.        , 0.        , 0.        , 0.        , 0.        ,\n",
              "        0.        , 0.        , 0.1372549 , 0.94509804, 0.88235294,\n",
              "        0.62745098, 0.42352941, 0.00392157, 0.        , 0.        ,\n",
              "        0.        , 0.        , 0.        , 0.        , 0.        ,\n",
              "        0.        , 0.        , 0.        ],\n",
              "       [0.        , 0.        , 0.        , 0.        , 0.        ,\n",
              "        0.        , 0.        , 0.        , 0.        , 0.        ,\n",
              "        0.        , 0.        , 0.        , 0.31764706, 0.94117647,\n",
              "        0.99215686, 0.99215686, 0.46666667, 0.09803922, 0.        ,\n",
              "        0.        , 0.        , 0.        , 0.        , 0.        ,\n",
              "        0.        , 0.        , 0.        ],\n",
              "       [0.        , 0.        , 0.        , 0.        , 0.        ,\n",
              "        0.        , 0.        , 0.        , 0.        , 0.        ,\n",
              "        0.        , 0.        , 0.        , 0.        , 0.17647059,\n",
              "        0.72941176, 0.99215686, 0.99215686, 0.58823529, 0.10588235,\n",
              "        0.        , 0.        , 0.        , 0.        , 0.        ,\n",
              "        0.        , 0.        , 0.        ],\n",
              "       [0.        , 0.        , 0.        , 0.        , 0.        ,\n",
              "        0.        , 0.        , 0.        , 0.        , 0.        ,\n",
              "        0.        , 0.        , 0.        , 0.        , 0.        ,\n",
              "        0.0627451 , 0.36470588, 0.98823529, 0.99215686, 0.73333333,\n",
              "        0.        , 0.        , 0.        , 0.        , 0.        ,\n",
              "        0.        , 0.        , 0.        ],\n",
              "       [0.        , 0.        , 0.        , 0.        , 0.        ,\n",
              "        0.        , 0.        , 0.        , 0.        , 0.        ,\n",
              "        0.        , 0.        , 0.        , 0.        , 0.        ,\n",
              "        0.        , 0.        , 0.97647059, 0.99215686, 0.97647059,\n",
              "        0.25098039, 0.        , 0.        , 0.        , 0.        ,\n",
              "        0.        , 0.        , 0.        ],\n",
              "       [0.        , 0.        , 0.        , 0.        , 0.        ,\n",
              "        0.        , 0.        , 0.        , 0.        , 0.        ,\n",
              "        0.        , 0.        , 0.        , 0.        , 0.18039216,\n",
              "        0.50980392, 0.71764706, 0.99215686, 0.99215686, 0.81176471,\n",
              "        0.00784314, 0.        , 0.        , 0.        , 0.        ,\n",
              "        0.        , 0.        , 0.        ],\n",
              "       [0.        , 0.        , 0.        , 0.        , 0.        ,\n",
              "        0.        , 0.        , 0.        , 0.        , 0.        ,\n",
              "        0.        , 0.        , 0.15294118, 0.58039216, 0.89803922,\n",
              "        0.99215686, 0.99215686, 0.99215686, 0.98039216, 0.71372549,\n",
              "        0.        , 0.        , 0.        , 0.        , 0.        ,\n",
              "        0.        , 0.        , 0.        ],\n",
              "       [0.        , 0.        , 0.        , 0.        , 0.        ,\n",
              "        0.        , 0.        , 0.        , 0.        , 0.        ,\n",
              "        0.09411765, 0.44705882, 0.86666667, 0.99215686, 0.99215686,\n",
              "        0.99215686, 0.99215686, 0.78823529, 0.30588235, 0.        ,\n",
              "        0.        , 0.        , 0.        , 0.        , 0.        ,\n",
              "        0.        , 0.        , 0.        ],\n",
              "       [0.        , 0.        , 0.        , 0.        , 0.        ,\n",
              "        0.        , 0.        , 0.        , 0.09019608, 0.25882353,\n",
              "        0.83529412, 0.99215686, 0.99215686, 0.99215686, 0.99215686,\n",
              "        0.77647059, 0.31764706, 0.00784314, 0.        , 0.        ,\n",
              "        0.        , 0.        , 0.        , 0.        , 0.        ,\n",
              "        0.        , 0.        , 0.        ],\n",
              "       [0.        , 0.        , 0.        , 0.        , 0.        ,\n",
              "        0.        , 0.07058824, 0.67058824, 0.85882353, 0.99215686,\n",
              "        0.99215686, 0.99215686, 0.99215686, 0.76470588, 0.31372549,\n",
              "        0.03529412, 0.        , 0.        , 0.        , 0.        ,\n",
              "        0.        , 0.        , 0.        , 0.        , 0.        ,\n",
              "        0.        , 0.        , 0.        ],\n",
              "       [0.        , 0.        , 0.        , 0.        , 0.21568627,\n",
              "        0.6745098 , 0.88627451, 0.99215686, 0.99215686, 0.99215686,\n",
              "        0.99215686, 0.95686275, 0.52156863, 0.04313725, 0.        ,\n",
              "        0.        , 0.        , 0.        , 0.        , 0.        ,\n",
              "        0.        , 0.        , 0.        , 0.        , 0.        ,\n",
              "        0.        , 0.        , 0.        ],\n",
              "       [0.        , 0.        , 0.        , 0.        , 0.53333333,\n",
              "        0.99215686, 0.99215686, 0.99215686, 0.83137255, 0.52941176,\n",
              "        0.51764706, 0.0627451 , 0.        , 0.        , 0.        ,\n",
              "        0.        , 0.        , 0.        , 0.        , 0.        ,\n",
              "        0.        , 0.        , 0.        , 0.        , 0.        ,\n",
              "        0.        , 0.        , 0.        ],\n",
              "       [0.        , 0.        , 0.        , 0.        , 0.        ,\n",
              "        0.        , 0.        , 0.        , 0.        , 0.        ,\n",
              "        0.        , 0.        , 0.        , 0.        , 0.        ,\n",
              "        0.        , 0.        , 0.        , 0.        , 0.        ,\n",
              "        0.        , 0.        , 0.        , 0.        , 0.        ,\n",
              "        0.        , 0.        , 0.        ],\n",
              "       [0.        , 0.        , 0.        , 0.        , 0.        ,\n",
              "        0.        , 0.        , 0.        , 0.        , 0.        ,\n",
              "        0.        , 0.        , 0.        , 0.        , 0.        ,\n",
              "        0.        , 0.        , 0.        , 0.        , 0.        ,\n",
              "        0.        , 0.        , 0.        , 0.        , 0.        ,\n",
              "        0.        , 0.        , 0.        ],\n",
              "       [0.        , 0.        , 0.        , 0.        , 0.        ,\n",
              "        0.        , 0.        , 0.        , 0.        , 0.        ,\n",
              "        0.        , 0.        , 0.        , 0.        , 0.        ,\n",
              "        0.        , 0.        , 0.        , 0.        , 0.        ,\n",
              "        0.        , 0.        , 0.        , 0.        , 0.        ,\n",
              "        0.        , 0.        , 0.        ]])"
            ]
          },
          "metadata": {},
          "execution_count": 56
        }
      ],
      "source": [
        "# Check the values are beween 0 & 1 ie. we have standardized / Normalized the values\n",
        "x_train[0]"
      ]
    },
    {
      "cell_type": "markdown",
      "metadata": {
        "id": "D0fZ6a7rjSl9"
      },
      "source": [
        "## Step 4: One-Hot Encoding:\n",
        "* We are going to use `categorical crossentropy`."
      ]
    },
    {
      "cell_type": "code",
      "execution_count": 57,
      "metadata": {
        "id": "UuEzOaaeSY0a"
      },
      "outputs": [],
      "source": [
        "# Let's convert the labels to One-Hot Encoded Vectors\n",
        "y_train=tf.keras.utils.to_categorical(y_train)\n",
        "y_test=tf.keras.utils.to_categorical(y_test)"
      ]
    },
    {
      "cell_type": "markdown",
      "metadata": {
        "id": "0IM89HVCfoWN"
      },
      "source": [
        "## Step 5: Shuffling The Data:\n",
        "* We are going to suffle the training dataset so the there will be randomness in the dataset."
      ]
    },
    {
      "cell_type": "code",
      "execution_count": 58,
      "metadata": {
        "id": "Z2LbQ6ptS6fM"
      },
      "outputs": [],
      "source": [
        "# Let's shuffle the data so that selction will be random \n",
        "# But for shuffling you have to import `shuffle` library from `sklearn.utils`\n",
        "from sklearn.utils import shuffle\n",
        "x_train,y_train = shuffle(x_train,y_train, random_state=42)"
      ]
    },
    {
      "cell_type": "markdown",
      "metadata": {
        "id": "XKW21pJFjSl_"
      },
      "source": [
        "## Step 6: Architecture Building:\n",
        "* We are going use only one dense layer."
      ]
    },
    {
      "cell_type": "code",
      "execution_count": 59,
      "metadata": {
        "id": "F7Qk6x6uTY7s"
      },
      "outputs": [],
      "source": [
        "'''\n",
        "Now after prepared and loaded, we need to degine the model architecture \n",
        "using `TesorFlow` layers and function\n",
        "'''\n",
        "model=tf.keras.models.Sequential()\n",
        "model.add(tf.keras.layers.Flatten(input_shape=(28,28)))\n",
        "model.add(tf.keras.layers.Dense(128, activation='relu'))\n",
        "model.add(tf.keras.layers.Dense(10,  activation='softmax'))\n"
      ]
    },
    {
      "cell_type": "markdown",
      "metadata": {
        "id": "D09kdY5EjSmA"
      },
      "source": [
        "### > Let's view the summary:"
      ]
    },
    {
      "cell_type": "code",
      "execution_count": 60,
      "metadata": {
        "colab": {
          "base_uri": "https://localhost:8080/"
        },
        "id": "uDqatzZolQk-",
        "outputId": "24b9fe54-d330-4c3c-e12c-7738c5d24aab"
      },
      "outputs": [
        {
          "output_type": "stream",
          "name": "stdout",
          "text": [
            "Model: \"sequential_1\"\n",
            "_________________________________________________________________\n",
            " Layer (type)                Output Shape              Param #   \n",
            "=================================================================\n",
            " flatten_1 (Flatten)         (None, 784)               0         \n",
            "                                                                 \n",
            " dense_2 (Dense)             (None, 128)               100480    \n",
            "                                                                 \n",
            " dense_3 (Dense)             (None, 10)                1290      \n",
            "                                                                 \n",
            "=================================================================\n",
            "Total params: 101,770\n",
            "Trainable params: 101,770\n",
            "Non-trainable params: 0\n",
            "_________________________________________________________________\n"
          ]
        }
      ],
      "source": [
        "# Summary of our arciteture\n",
        "model.summary()"
      ]
    },
    {
      "cell_type": "markdown",
      "metadata": {
        "id": "ZEgVr3yMjSmB"
      },
      "source": [
        "## Step 7: Compliling The Model:"
      ]
    },
    {
      "cell_type": "code",
      "execution_count": 61,
      "metadata": {
        "id": "7qqLUWA7WV0s"
      },
      "outputs": [],
      "source": [
        "# Now we need to compile this \n",
        "model.compile(optimizer='adam', loss='categorical_crossentropy',metrics=['accuracy'])"
      ]
    },
    {
      "cell_type": "markdown",
      "metadata": {
        "id": "fj_bIsyJjSmB"
      },
      "source": [
        "## Step 8: Fitting The Model:"
      ]
    },
    {
      "cell_type": "code",
      "execution_count": 62,
      "metadata": {
        "colab": {
          "base_uri": "https://localhost:8080/"
        },
        "id": "WaVpngd4WxF0",
        "outputId": "e6a41ec7-42f9-4fdb-81d9-7d89b5366e5e"
      },
      "outputs": [
        {
          "output_type": "stream",
          "name": "stdout",
          "text": [
            "Epoch 1/10\n",
            "938/938 [==============================] - 3s 3ms/step - loss: 0.3014 - accuracy: 0.9157\n",
            "Epoch 2/10\n",
            "938/938 [==============================] - 3s 3ms/step - loss: 0.1376 - accuracy: 0.9604\n",
            "Epoch 3/10\n",
            "938/938 [==============================] - 3s 3ms/step - loss: 0.0951 - accuracy: 0.9721\n",
            "Epoch 4/10\n",
            "938/938 [==============================] - 4s 5ms/step - loss: 0.0721 - accuracy: 0.9784\n",
            "Epoch 5/10\n",
            "938/938 [==============================] - 5s 6ms/step - loss: 0.0557 - accuracy: 0.9833\n",
            "Epoch 6/10\n",
            "938/938 [==============================] - 5s 6ms/step - loss: 0.0447 - accuracy: 0.9862\n",
            "Epoch 7/10\n",
            "938/938 [==============================] - 5s 5ms/step - loss: 0.0375 - accuracy: 0.9887\n",
            "Epoch 8/10\n",
            "938/938 [==============================] - 3s 3ms/step - loss: 0.0295 - accuracy: 0.9914\n",
            "Epoch 9/10\n",
            "938/938 [==============================] - 3s 3ms/step - loss: 0.0243 - accuracy: 0.9930\n",
            "Epoch 10/10\n",
            "938/938 [==============================] - 3s 3ms/step - loss: 0.0202 - accuracy: 0.9944\n"
          ]
        },
        {
          "output_type": "execute_result",
          "data": {
            "text/plain": [
              "<keras.callbacks.History at 0x7fa0bfbc8fd0>"
            ]
          },
          "metadata": {},
          "execution_count": 62
        }
      ],
      "source": [
        "# Now let'a trian our model\n",
        "model.fit(x_train,y_train, batch_size=64, epochs=10,)"
      ]
    },
    {
      "cell_type": "markdown",
      "metadata": {
        "id": "AL1LPXPMjSmC"
      },
      "source": [
        "## Step 9: Evaluating The Trained Model:"
      ]
    },
    {
      "cell_type": "code",
      "execution_count": 63,
      "metadata": {
        "colab": {
          "base_uri": "https://localhost:8080/"
        },
        "id": "mpS31tCjX2Xw",
        "outputId": "9f4b866a-46a8-4273-92b0-3433671cde8b"
      },
      "outputs": [
        {
          "output_type": "stream",
          "name": "stdout",
          "text": [
            "313/313 [==============================] - 1s 2ms/step - loss: 0.0700 - accuracy: 0.9787\n",
            "Test Accuracy: 0.9786999821662903\n",
            "Test Loss: 0.07004903256893158\n"
          ]
        }
      ],
      "source": [
        "# Let's evaluate the trained model\n",
        "test_loss, test_acc = model.evaluate(x_test, y_test)\n",
        "print('Test Accuracy:', test_acc)\n",
        "print('Test Loss:', test_loss)"
      ]
    },
    {
      "cell_type": "markdown",
      "metadata": {
        "id": "Nq71XRnjjSmC"
      },
      "source": [
        "## Conclusion:\n",
        "* Our model is giving `97.99%` accuracy.\n",
        "* Loss is `.6.9%`."
      ]
    },
    {
      "cell_type": "markdown",
      "metadata": {
        "id": "w2tHYHItjSmD"
      },
      "source": [
        "## Step 10: Testing The Model:"
      ]
    },
    {
      "cell_type": "code",
      "execution_count": 64,
      "metadata": {
        "colab": {
          "base_uri": "https://localhost:8080/"
        },
        "id": "AEbguwLDmvKn",
        "outputId": "9ab19fce-163f-46ae-ee54-893e62179aa7"
      },
      "outputs": [
        {
          "output_type": "stream",
          "name": "stdout",
          "text": [
            "313/313 [==============================] - 1s 2ms/step\n"
          ]
        },
        {
          "output_type": "execute_result",
          "data": {
            "text/plain": [
              "array([[5.6061278e-10, 1.3275013e-11, 1.0284780e-07, ..., 9.9996549e-01,\n",
              "        1.3289353e-07, 2.7685323e-07],\n",
              "       [2.5519761e-08, 2.1612166e-06, 9.9999768e-01, ..., 2.1312713e-16,\n",
              "        1.9326323e-09, 4.1246028e-17],\n",
              "       [1.5560383e-06, 9.9796665e-01, 1.6448823e-04, ..., 4.4788377e-04,\n",
              "        1.2457053e-03, 1.5009954e-06],\n",
              "       ...,\n",
              "       [1.3813474e-13, 6.6559266e-14, 5.3940315e-14, ..., 2.2171916e-07,\n",
              "        2.7188202e-07, 7.6583328e-06],\n",
              "       [3.7367150e-13, 2.8342875e-12, 1.7334897e-13, ..., 4.5372242e-10,\n",
              "        1.5177001e-04, 5.3494633e-13],\n",
              "       [7.0954953e-09, 1.3497822e-12, 2.9729117e-08, ..., 1.4144063e-15,\n",
              "        1.1950484e-10, 5.3223993e-15]], dtype=float32)"
            ]
          },
          "metadata": {},
          "execution_count": 64
        }
      ],
      "source": [
        "# Let's see the prediction with test dataset\n",
        "model.predict(x_test)"
      ]
    },
    {
      "cell_type": "markdown",
      "metadata": {
        "id": "8SHG10DUjSmE"
      },
      "source": [
        "### > Verifing the outputs with class & visuals."
      ]
    },
    {
      "cell_type": "code",
      "execution_count": 65,
      "metadata": {
        "colab": {
          "base_uri": "https://localhost:8080/"
        },
        "id": "3PoAkxYYm8yw",
        "outputId": "5164e3c5-6db2-482c-b413-7ff61b637d12"
      },
      "outputs": [
        {
          "output_type": "stream",
          "name": "stdout",
          "text": [
            "313/313 [==============================] - 0s 2ms/step\n"
          ]
        },
        {
          "output_type": "execute_result",
          "data": {
            "text/plain": [
              "array([7, 2, 1, ..., 4, 5, 6])"
            ]
          },
          "metadata": {},
          "execution_count": 65
        }
      ],
      "source": [
        "# Eassy to show method\n",
        "predictions=model.predict(x_test)\n",
        "class_labels = np.argmax(predictions, axis=1)\n",
        "class_labels"
      ]
    },
    {
      "cell_type": "code",
      "execution_count": 66,
      "metadata": {
        "colab": {
          "base_uri": "https://localhost:8080/"
        },
        "id": "okVvYqLypnjx",
        "outputId": "10cbd60d-a798-41cf-ac59-9dc2b1ec528d"
      },
      "outputs": [
        {
          "output_type": "execute_result",
          "data": {
            "text/plain": [
              "(10000,)"
            ]
          },
          "metadata": {},
          "execution_count": 66
        }
      ],
      "source": [
        "# Total number of data in the class\n",
        "class_labels.shape"
      ]
    },
    {
      "cell_type": "code",
      "execution_count": 67,
      "metadata": {
        "colab": {
          "base_uri": "https://localhost:8080/",
          "height": 282
        },
        "id": "XtuUGj9jpyX0",
        "outputId": "493fa752-659d-4a57-cbb6-1267fcb2079a"
      },
      "outputs": [
        {
          "output_type": "execute_result",
          "data": {
            "text/plain": [
              "<matplotlib.image.AxesImage at 0x7fa0bfa39dc0>"
            ]
          },
          "metadata": {},
          "execution_count": 67
        },
        {
          "output_type": "display_data",
          "data": {
            "text/plain": [
              "<Figure size 432x288 with 1 Axes>"
            ],
            "image/png": "[encoded data removed]"
          },
          "metadata": {
            "needs_background": "light"
          }
        }
      ],
      "source": [
        "# Let's quickely check (According to our model 1st=7, 2nd=2, 3rd=1...)\n",
        "plt.imshow(x_test[3])"
      ]
    },
    {
      "cell_type": "markdown",
      "metadata": {
        "id": "RtGcrDAqjSmF"
      },
      "source": [
        "## Let's increase the `epoch` upto 15 to see the changes:"
      ]
    },
    {
      "cell_type": "markdown",
      "metadata": {
        "id": "pwq0KzLAjSmF"
      },
      "source": [
        "* We are going to increse the `epoch` from 10 to 15."
      ]
    },
    {
      "cell_type": "code",
      "execution_count": 68,
      "metadata": {
        "colab": {
          "base_uri": "https://localhost:8080/"
        },
        "id": "hmBBM12Qr9_I",
        "outputId": "b33e54be-e89a-4417-df05-930f295a5a99"
      },
      "outputs": [
        {
          "output_type": "stream",
          "name": "stdout",
          "text": [
            "Epoch 1/15\n",
            "750/750 [==============================] - 3s 4ms/step - loss: 0.0166 - accuracy: 0.9953 - val_loss: 0.0205 - val_accuracy: 0.9942\n",
            "Epoch 2/15\n",
            "750/750 [==============================] - 3s 4ms/step - loss: 0.0128 - accuracy: 0.9966 - val_loss: 0.0205 - val_accuracy: 0.9932\n",
            "Epoch 3/15\n",
            "750/750 [==============================] - 3s 3ms/step - loss: 0.0099 - accuracy: 0.9978 - val_loss: 0.0236 - val_accuracy: 0.9915\n",
            "Epoch 4/15\n",
            "750/750 [==============================] - 5s 6ms/step - loss: 0.0086 - accuracy: 0.9981 - val_loss: 0.0320 - val_accuracy: 0.9898\n",
            "Epoch 5/15\n",
            "750/750 [==============================] - 5s 7ms/step - loss: 0.0076 - accuracy: 0.9982 - val_loss: 0.0278 - val_accuracy: 0.9907\n",
            "Epoch 6/15\n",
            "750/750 [==============================] - 5s 7ms/step - loss: 0.0067 - accuracy: 0.9986 - val_loss: 0.0292 - val_accuracy: 0.9898\n",
            "Epoch 7/15\n",
            "750/750 [==============================] - 3s 4ms/step - loss: 0.0059 - accuracy: 0.9987 - val_loss: 0.0341 - val_accuracy: 0.9896\n",
            "Epoch 8/15\n",
            "750/750 [==============================] - 3s 3ms/step - loss: 0.0052 - accuracy: 0.9988 - val_loss: 0.0265 - val_accuracy: 0.9912\n",
            "Epoch 9/15\n",
            "750/750 [==============================] - 3s 3ms/step - loss: 0.0050 - accuracy: 0.9988 - val_loss: 0.0300 - val_accuracy: 0.9901\n",
            "Epoch 10/15\n",
            "750/750 [==============================] - 3s 4ms/step - loss: 0.0058 - accuracy: 0.9983 - val_loss: 0.0310 - val_accuracy: 0.9898\n",
            "Epoch 11/15\n",
            "750/750 [==============================] - 3s 4ms/step - loss: 0.0033 - accuracy: 0.9994 - val_loss: 0.0386 - val_accuracy: 0.9877\n",
            "Epoch 12/15\n",
            "750/750 [==============================] - 2s 3ms/step - loss: 0.0027 - accuracy: 0.9995 - val_loss: 0.0315 - val_accuracy: 0.9902\n",
            "Epoch 13/15\n",
            "750/750 [==============================] - 3s 3ms/step - loss: 0.0011 - accuracy: 1.0000 - val_loss: 0.0265 - val_accuracy: 0.9917\n",
            "Epoch 14/15\n",
            "750/750 [==============================] - 3s 4ms/step - loss: 0.0018 - accuracy: 0.9996 - val_loss: 0.0814 - val_accuracy: 0.9788\n",
            "Epoch 15/15\n",
            "750/750 [==============================] - 3s 3ms/step - loss: 0.0099 - accuracy: 0.9968 - val_loss: 0.0410 - val_accuracy: 0.9869\n"
          ]
        }
      ],
      "source": [
        "# Let's experiment with increasing number cycles (epochs=30) to improve the accuracy\n",
        "# Now let'a trian our model\n",
        "history = model.fit(x_train,y_train, batch_size=64, epochs=15, verbose=1, validation_split=.2) "
      ]
    },
    {
      "cell_type": "code",
      "execution_count": 69,
      "metadata": {
        "colab": {
          "base_uri": "https://localhost:8080/"
        },
        "id": "Hka-_tgyjSmG",
        "outputId": "11ec32eb-6003-46c6-fced-cae0372ff2cb"
      },
      "outputs": [
        {
          "output_type": "stream",
          "name": "stdout",
          "text": [
            "313/313 [==============================] - 1s 2ms/step - loss: 0.0919 - accuracy: 0.9797\n",
            "Test Accuracy: 0.9797000288963318\n",
            "Test Loss: 0.09192114323377609\n"
          ]
        }
      ],
      "source": [
        "# Let's evaluate the trained model\n",
        "test_loss, test_acc = model.evaluate(x_test,y_test)\n",
        "print('Test Accuracy:', test_acc)\n",
        "print('Test Loss:', test_loss)"
      ]
    },
    {
      "cell_type": "markdown",
      "source": [
        "## Conclusion:\n",
        "* Our model is giving `97.90%` accuracy.\n",
        "* Loss is `.9.2%`."
      ],
      "metadata": {
        "id": "IcIK6YJZk9Al"
      }
    },
    {
      "cell_type": "markdown",
      "metadata": {
        "id": "0Xz0U_30jSmG"
      },
      "source": [
        "## Step 11: Ploting To Visualize The change:"
      ]
    },
    {
      "cell_type": "markdown",
      "metadata": {
        "id": "Ny28RJ8XjSmH"
      },
      "source": [
        "### > `Loss` vs `Var_loss` Plotting :"
      ]
    },
    {
      "cell_type": "code",
      "execution_count": 70,
      "metadata": {
        "colab": {
          "base_uri": "https://localhost:8080/",
          "height": 282
        },
        "id": "fb12t2fjswgQ",
        "outputId": "044fd2ac-2a15-47fb-cb63-24fda83f3628"
      },
      "outputs": [
        {
          "output_type": "execute_result",
          "data": {
            "text/plain": [
              "[<matplotlib.lines.Line2D at 0x7fa0bf9c4ac0>]"
            ]
          },
          "metadata": {},
          "execution_count": 70
        },
        {
          "output_type": "display_data",
          "data": {
            "text/plain": [
              "<Figure size 432x288 with 1 Axes>"
            ],
            "image/png": "[encoded data removed]"
          },
          "metadata": {
            "needs_background": "light"
          }
        }
      ],
      "source": [
        "# Let's plot a loss curve against epochs\n",
        "plt.plot(history.history['loss'])\n",
        "plt.plot(history.history['val_loss'])\n"
      ]
    },
    {
      "cell_type": "markdown",
      "metadata": {
        "id": "iJsvlTt6jSmH"
      },
      "source": [
        "### > `Accuracy` vs `Val_accuracy` Plotting"
      ]
    },
    {
      "cell_type": "code",
      "execution_count": 71,
      "metadata": {
        "colab": {
          "base_uri": "https://localhost:8080/",
          "height": 282
        },
        "id": "r2eCHwp8v0pp",
        "outputId": "e25f78b5-753f-4f79-a365-0a3f8837f3df"
      },
      "outputs": [
        {
          "output_type": "execute_result",
          "data": {
            "text/plain": [
              "[<matplotlib.lines.Line2D at 0x7fa0bfaa3880>]"
            ]
          },
          "metadata": {},
          "execution_count": 71
        },
        {
          "output_type": "display_data",
          "data": {
            "text/plain": [
              "<Figure size 432x288 with 1 Axes>"
            ],
            "image/png": "[encoded data removed]"
          },
          "metadata": {
            "needs_background": "light"
          }
        }
      ],
      "source": [
        "# Let's plot a accuracy curve against epochs\n",
        "\n",
        "plt.plot(history.history['accuracy'])\n",
        "plt.plot(history.history['val_accuracy'])"
      ]
    },
    {
      "cell_type": "markdown",
      "metadata": {
        "id": "9JV1jGmijSmH"
      },
      "source": [
        "## Step 12: Checking The Trainded Model On Externaly New Data:"
      ]
    },
    {
      "cell_type": "code",
      "source": [
        "'''\n",
        "You see our test accuracy is 97.65% with epochs=10 and 100% with epochs=15. \n",
        "Let's use the trained model to make predictions on new images\n",
        "First we need to load an image from PLI(Python Imaging Library)\n",
        "'''\n",
        "\n",
        "from PIL import Image\n",
        "\n",
        "# Loading the new image\n",
        "\n",
        "image=Image.open('/content/drive/MyDrive/Colab Notebooks/4digi.jpg')\n",
        "image"
      ],
      "metadata": {
        "colab": {
          "base_uri": "https://localhost:8080/",
          "height": 235
        },
        "id": "yefXYmuOm9rS",
        "outputId": "9b6187fb-5f8e-4959-8162-3c15d783ed57"
      },
      "execution_count": 72,
      "outputs": [
        {
          "output_type": "execute_result",
          "data": {
            "text/plain": [
              "<PIL.JpegImagePlugin.JpegImageFile image mode=RGB size=215x218 at 0x7FA0BFAA7D30>"
            ],
            "image/png": "[encoded data removed]"
          },
          "metadata": {},
          "execution_count": 72
        }
      ]
    },
    {
      "cell_type": "code",
      "execution_count": 73,
      "metadata": {
        "colab": {
          "base_uri": "https://localhost:8080/",
          "height": 45
        },
        "id": "EfeTayWtwJ6M",
        "outputId": "67176704-5cd2-4f2d-bf52-e0402a8a530b"
      },
      "outputs": [
        {
          "output_type": "execute_result",
          "data": {
            "text/plain": [
              "<PIL.Image.Image image mode=RGB size=28x28 at 0x7FA0BFA39A90>"
            ],
            "image/png": "[encoded data removed]"
          },
          "metadata": {},
          "execution_count": 73
        }
      ],
      "source": [
        "# Resize the image to match the training data\n",
        "new_image = image.resize((28,28))\n",
        "new_image"
      ]
    },
    {
      "cell_type": "code",
      "execution_count": 74,
      "metadata": {
        "colab": {
          "base_uri": "https://localhost:8080/",
          "height": 45
        },
        "id": "F2LFXVMVccQK",
        "outputId": "a8699abe-a6cd-49d8-c9c5-62985a3257a4"
      },
      "outputs": [
        {
          "output_type": "execute_result",
          "data": {
            "text/plain": [
              "<PIL.Image.Image image mode=L size=28x28 at 0x7FA0BFC02250>"
            ],
            "image/png": "[encoded data removed]"
          },
          "metadata": {},
          "execution_count": 74
        }
      ],
      "source": [
        "# Convert the image to grayscale\n",
        "new_image_l =  new_image.convert('L')\n",
        "new_image_l"
      ]
    },
    {
      "cell_type": "code",
      "execution_count": 75,
      "metadata": {
        "colab": {
          "base_uri": "https://localhost:8080/"
        },
        "id": "NJ6CHqU1xNb9",
        "outputId": "c07de444-d712-496f-b897-41e5cf89dc85"
      },
      "outputs": [
        {
          "output_type": "execute_result",
          "data": {
            "text/plain": [
              "array([[[ 31,  31,  31,  31,  31,  31,  31,  31,  31,  31,  31,  31,\n",
              "          31,  31,  31,  31,  31,  31,  31,  31,  31,  31,  31,  31,\n",
              "          31,  31,  31,  31],\n",
              "        [ 32,  33,  33,  33,  33,  33,  33,  33,  33,  33,  33,  33,\n",
              "          33,  33,  33,  33,  33,  33,  33,  33,  33,  33,  33,  33,\n",
              "          33,  33,  33,  32],\n",
              "        [ 32,  33,  33,  33,  33,  33,  33,  33,  33,  33,  33,  33,\n",
              "          33,  33,  33,  33,  33,  33,  33,  33,  33,  33,  33,  33,\n",
              "          33,  33,  33,  32],\n",
              "        [ 32,  33,  33,  33,  33,  33,  33,  33,  33,  33,  33,  33,\n",
              "          33,  33,  33,  33,  33,  33,  32,  31,  30,  31,  33,  33,\n",
              "          33,  33,  33,  32],\n",
              "        [ 32,  33,  33,  33,  33,  33,  33,  33,  33,  33,  33,  33,\n",
              "          33,  33,  33,  33,  33,  33,  38,  50,  56,  45,  35,  33,\n",
              "          33,  33,  33,  32],\n",
              "        [ 32,  33,  33,  33,  33,  33,  33,  32,  31,  31,  32,  33,\n",
              "          33,  33,  33,  33,  32,  36,  85, 170, 205, 138,  52,  32,\n",
              "          33,  33,  33,  32],\n",
              "        [ 32,  33,  33,  33,  33,  33,  33,  36,  43,  43,  37,  32,\n",
              "          33,  33,  33,  33,  31,  39, 111, 208, 219, 177,  64,  31,\n",
              "          33,  33,  33,  32],\n",
              "        [ 32,  33,  33,  33,  33,  32,  36,  66, 121, 122,  85,  41,\n",
              "          33,  33,  33,  33,  32,  38, 118, 209, 216, 156,  51,  30,\n",
              "          33,  33,  33,  32],\n",
              "        [ 32,  33,  33,  33,  33,  31,  45, 134, 208, 213, 191, 105,\n",
              "          37,  32,  33,  33,  32,  57, 174, 217, 212, 109,  41,  31,\n",
              "          33,  33,  33,  32],\n",
              "        [ 32,  33,  33,  33,  33,  31,  57, 178, 217, 220, 209, 141,\n",
              "          40,  32,  33,  31,  38, 127, 210, 220, 206,  91,  37,  32,\n",
              "          33,  33,  33,  32],\n",
              "        [ 32,  33,  33,  33,  32,  37,  91, 199, 218, 216, 165,  84,\n",
              "          36,  32,  33,  32,  53, 174, 218, 216, 167,  51,  31,  33,\n",
              "          33,  33,  33,  32],\n",
              "        [ 32,  33,  33,  33,  30,  51, 143, 215, 220, 206,  98,  35,\n",
              "          32,  33,  32,  39,  96, 204, 220, 209, 122,  41,  31,  33,\n",
              "          33,  33,  33,  32],\n",
              "        [ 32,  33,  33,  33,  30,  55, 164, 216, 219, 205,  94,  34,\n",
              "          32,  33,  32,  54, 150, 213, 219, 198,  83,  36,  32,  33,\n",
              "          33,  33,  33,  32],\n",
              "        [ 32,  33,  33,  33,  30,  62, 173, 216, 218, 194,  73,  33,\n",
              "          33,  32,  31,  65, 185, 217, 218, 187,  47,  30,  33,  33,\n",
              "          33,  33,  33,  32],\n",
              "        [ 32,  33,  33,  32,  34,  92, 210, 218, 217, 184,  50,  30,\n",
              "          31,  32,  43,  91, 207, 219, 218, 181,  45,  30,  33,  33,\n",
              "          33,  33,  33,  32],\n",
              "        [ 32,  33,  33,  32,  35,  96, 216, 219, 219, 208, 122,  81,\n",
              "          80,  85, 136, 182, 216, 220, 214, 143,  41,  32,  33,  33,\n",
              "          33,  33,  33,  32],\n",
              "        [ 32,  33,  33,  32,  33,  84, 200, 220, 219, 218, 215, 215,\n",
              "         216, 218, 219, 219, 217, 218, 212, 111,  37,  31,  33,  33,\n",
              "          33,  33,  33,  32],\n",
              "        [ 32,  33,  33,  33,  31,  49, 131, 194, 207, 221, 220, 216,\n",
              "         204, 193, 197, 206, 216, 218, 203,  70,  32,  32,  33,  33,\n",
              "          33,  33,  33,  32],\n",
              "        [ 32,  33,  33,  33,  33,  34,  49,  89, 132, 191, 190, 169,\n",
              "         121,  73,  92, 150, 213, 215, 167,  47,  30,  33,  33,  33,\n",
              "          33,  33,  33,  32],\n",
              "        [ 32,  33,  33,  33,  33,  33,  33,  34,  38,  52,  52,  47,\n",
              "          36,  33,  52, 152, 215, 210, 128,  43,  31,  33,  33,  33,\n",
              "          33,  33,  33,  32],\n",
              "        [ 32,  33,  33,  33,  33,  33,  33,  33,  32,  32,  32,  32,\n",
              "          31,  38, 102, 206, 221, 210, 125,  42,  31,  33,  33,  33,\n",
              "          33,  33,  33,  32],\n",
              "        [ 32,  33,  33,  33,  33,  33,  33,  33,  33,  33,  33,  33,\n",
              "          31,  42, 133, 210, 220, 207, 109,  40,  32,  33,  33,  33,\n",
              "          33,  33,  33,  32],\n",
              "        [ 32,  33,  33,  33,  33,  33,  33,  33,  33,  33,  33,  33,\n",
              "          31,  49, 184, 216, 220, 204,  65,  33,  33,  33,  33,  33,\n",
              "          33,  33,  33,  32],\n",
              "        [ 32,  33,  33,  33,  33,  33,  33,  33,  33,  33,  33,  33,\n",
              "          30,  53, 210, 224, 223, 196,  60,  33,  33,  33,  33,  33,\n",
              "          33,  33,  33,  32],\n",
              "        [ 32,  33,  33,  33,  33,  33,  33,  33,  33,  33,  33,  33,\n",
              "          30,  48, 172, 183, 178, 123,  40,  32,  33,  33,  33,  33,\n",
              "          33,  33,  33,  32],\n",
              "        [ 32,  33,  33,  33,  33,  33,  33,  33,  33,  33,  33,  33,\n",
              "          33,  33,  34,  34,  35,  34,  33,  33,  33,  33,  33,  33,\n",
              "          33,  33,  33,  32],\n",
              "        [ 31,  32,  32,  32,  32,  32,  32,  32,  32,  32,  32,  32,\n",
              "          32,  32,  31,  31,  31,  32,  32,  32,  32,  32,  32,  32,\n",
              "          32,  32,  32,  31],\n",
              "        [ 40,  42,  41,  41,  42,  41,  41,  41,  41,  41,  40,  41,\n",
              "          41,  41,  41,  40,  41,  41,  41,  41,  40,  41,  41,  41,\n",
              "          41,  41,  41,  41]]], dtype=uint8)"
            ]
          },
          "metadata": {},
          "execution_count": 75
        }
      ],
      "source": [
        "# Now array of the image\n",
        "new_image_arr = np.expand_dims(new_image_l, axis=0)\n",
        "new_image_arr"
      ]
    },
    {
      "cell_type": "code",
      "execution_count": 76,
      "metadata": {
        "colab": {
          "base_uri": "https://localhost:8080/"
        },
        "id": "WviyrXlt4HYM",
        "outputId": "873e6a47-ab6f-4bc6-ca08-b03320d230c6"
      },
      "outputs": [
        {
          "output_type": "execute_result",
          "data": {
            "text/plain": [
              "array([[[0.12156863, 0.12156863, 0.12156863, 0.12156863, 0.12156863,\n",
              "         0.12156863, 0.12156863, 0.12156863, 0.12156863, 0.12156863,\n",
              "         0.12156863, 0.12156863, 0.12156863, 0.12156863, 0.12156863,\n",
              "         0.12156863, 0.12156863, 0.12156863, 0.12156863, 0.12156863,\n",
              "         0.12156863, 0.12156863, 0.12156863, 0.12156863, 0.12156863,\n",
              "         0.12156863, 0.12156863, 0.12156863],\n",
              "        [0.1254902 , 0.12941176, 0.12941176, 0.12941176, 0.12941176,\n",
              "         0.12941176, 0.12941176, 0.12941176, 0.12941176, 0.12941176,\n",
              "         0.12941176, 0.12941176, 0.12941176, 0.12941176, 0.12941176,\n",
              "         0.12941176, 0.12941176, 0.12941176, 0.12941176, 0.12941176,\n",
              "         0.12941176, 0.12941176, 0.12941176, 0.12941176, 0.12941176,\n",
              "         0.12941176, 0.12941176, 0.1254902 ],\n",
              "        [0.1254902 , 0.12941176, 0.12941176, 0.12941176, 0.12941176,\n",
              "         0.12941176, 0.12941176, 0.12941176, 0.12941176, 0.12941176,\n",
              "         0.12941176, 0.12941176, 0.12941176, 0.12941176, 0.12941176,\n",
              "         0.12941176, 0.12941176, 0.12941176, 0.12941176, 0.12941176,\n",
              "         0.12941176, 0.12941176, 0.12941176, 0.12941176, 0.12941176,\n",
              "         0.12941176, 0.12941176, 0.1254902 ],\n",
              "        [0.1254902 , 0.12941176, 0.12941176, 0.12941176, 0.12941176,\n",
              "         0.12941176, 0.12941176, 0.12941176, 0.12941176, 0.12941176,\n",
              "         0.12941176, 0.12941176, 0.12941176, 0.12941176, 0.12941176,\n",
              "         0.12941176, 0.12941176, 0.12941176, 0.1254902 , 0.12156863,\n",
              "         0.11764706, 0.12156863, 0.12941176, 0.12941176, 0.12941176,\n",
              "         0.12941176, 0.12941176, 0.1254902 ],\n",
              "        [0.1254902 , 0.12941176, 0.12941176, 0.12941176, 0.12941176,\n",
              "         0.12941176, 0.12941176, 0.12941176, 0.12941176, 0.12941176,\n",
              "         0.12941176, 0.12941176, 0.12941176, 0.12941176, 0.12941176,\n",
              "         0.12941176, 0.12941176, 0.12941176, 0.14901961, 0.19607843,\n",
              "         0.21960784, 0.17647059, 0.1372549 , 0.12941176, 0.12941176,\n",
              "         0.12941176, 0.12941176, 0.1254902 ],\n",
              "        [0.1254902 , 0.12941176, 0.12941176, 0.12941176, 0.12941176,\n",
              "         0.12941176, 0.12941176, 0.1254902 , 0.12156863, 0.12156863,\n",
              "         0.1254902 , 0.12941176, 0.12941176, 0.12941176, 0.12941176,\n",
              "         0.12941176, 0.1254902 , 0.14117647, 0.33333333, 0.66666667,\n",
              "         0.80392157, 0.54117647, 0.20392157, 0.1254902 , 0.12941176,\n",
              "         0.12941176, 0.12941176, 0.1254902 ],\n",
              "        [0.1254902 , 0.12941176, 0.12941176, 0.12941176, 0.12941176,\n",
              "         0.12941176, 0.12941176, 0.14117647, 0.16862745, 0.16862745,\n",
              "         0.14509804, 0.1254902 , 0.12941176, 0.12941176, 0.12941176,\n",
              "         0.12941176, 0.12156863, 0.15294118, 0.43529412, 0.81568627,\n",
              "         0.85882353, 0.69411765, 0.25098039, 0.12156863, 0.12941176,\n",
              "         0.12941176, 0.12941176, 0.1254902 ],\n",
              "        [0.1254902 , 0.12941176, 0.12941176, 0.12941176, 0.12941176,\n",
              "         0.1254902 , 0.14117647, 0.25882353, 0.4745098 , 0.47843137,\n",
              "         0.33333333, 0.16078431, 0.12941176, 0.12941176, 0.12941176,\n",
              "         0.12941176, 0.1254902 , 0.14901961, 0.4627451 , 0.81960784,\n",
              "         0.84705882, 0.61176471, 0.2       , 0.11764706, 0.12941176,\n",
              "         0.12941176, 0.12941176, 0.1254902 ],\n",
              "        [0.1254902 , 0.12941176, 0.12941176, 0.12941176, 0.12941176,\n",
              "         0.12156863, 0.17647059, 0.5254902 , 0.81568627, 0.83529412,\n",
              "         0.74901961, 0.41176471, 0.14509804, 0.1254902 , 0.12941176,\n",
              "         0.12941176, 0.1254902 , 0.22352941, 0.68235294, 0.85098039,\n",
              "         0.83137255, 0.42745098, 0.16078431, 0.12156863, 0.12941176,\n",
              "         0.12941176, 0.12941176, 0.1254902 ],\n",
              "        [0.1254902 , 0.12941176, 0.12941176, 0.12941176, 0.12941176,\n",
              "         0.12156863, 0.22352941, 0.69803922, 0.85098039, 0.8627451 ,\n",
              "         0.81960784, 0.55294118, 0.15686275, 0.1254902 , 0.12941176,\n",
              "         0.12156863, 0.14901961, 0.49803922, 0.82352941, 0.8627451 ,\n",
              "         0.80784314, 0.35686275, 0.14509804, 0.1254902 , 0.12941176,\n",
              "         0.12941176, 0.12941176, 0.1254902 ],\n",
              "        [0.1254902 , 0.12941176, 0.12941176, 0.12941176, 0.1254902 ,\n",
              "         0.14509804, 0.35686275, 0.78039216, 0.85490196, 0.84705882,\n",
              "         0.64705882, 0.32941176, 0.14117647, 0.1254902 , 0.12941176,\n",
              "         0.1254902 , 0.20784314, 0.68235294, 0.85490196, 0.84705882,\n",
              "         0.65490196, 0.2       , 0.12156863, 0.12941176, 0.12941176,\n",
              "         0.12941176, 0.12941176, 0.1254902 ],\n",
              "        [0.1254902 , 0.12941176, 0.12941176, 0.12941176, 0.11764706,\n",
              "         0.2       , 0.56078431, 0.84313725, 0.8627451 , 0.80784314,\n",
              "         0.38431373, 0.1372549 , 0.1254902 , 0.12941176, 0.1254902 ,\n",
              "         0.15294118, 0.37647059, 0.8       , 0.8627451 , 0.81960784,\n",
              "         0.47843137, 0.16078431, 0.12156863, 0.12941176, 0.12941176,\n",
              "         0.12941176, 0.12941176, 0.1254902 ],\n",
              "        [0.1254902 , 0.12941176, 0.12941176, 0.12941176, 0.11764706,\n",
              "         0.21568627, 0.64313725, 0.84705882, 0.85882353, 0.80392157,\n",
              "         0.36862745, 0.13333333, 0.1254902 , 0.12941176, 0.1254902 ,\n",
              "         0.21176471, 0.58823529, 0.83529412, 0.85882353, 0.77647059,\n",
              "         0.3254902 , 0.14117647, 0.1254902 , 0.12941176, 0.12941176,\n",
              "         0.12941176, 0.12941176, 0.1254902 ],\n",
              "        [0.1254902 , 0.12941176, 0.12941176, 0.12941176, 0.11764706,\n",
              "         0.24313725, 0.67843137, 0.84705882, 0.85490196, 0.76078431,\n",
              "         0.28627451, 0.12941176, 0.12941176, 0.1254902 , 0.12156863,\n",
              "         0.25490196, 0.7254902 , 0.85098039, 0.85490196, 0.73333333,\n",
              "         0.18431373, 0.11764706, 0.12941176, 0.12941176, 0.12941176,\n",
              "         0.12941176, 0.12941176, 0.1254902 ],\n",
              "        [0.1254902 , 0.12941176, 0.12941176, 0.1254902 , 0.13333333,\n",
              "         0.36078431, 0.82352941, 0.85490196, 0.85098039, 0.72156863,\n",
              "         0.19607843, 0.11764706, 0.12156863, 0.1254902 , 0.16862745,\n",
              "         0.35686275, 0.81176471, 0.85882353, 0.85490196, 0.70980392,\n",
              "         0.17647059, 0.11764706, 0.12941176, 0.12941176, 0.12941176,\n",
              "         0.12941176, 0.12941176, 0.1254902 ],\n",
              "        [0.1254902 , 0.12941176, 0.12941176, 0.1254902 , 0.1372549 ,\n",
              "         0.37647059, 0.84705882, 0.85882353, 0.85882353, 0.81568627,\n",
              "         0.47843137, 0.31764706, 0.31372549, 0.33333333, 0.53333333,\n",
              "         0.71372549, 0.84705882, 0.8627451 , 0.83921569, 0.56078431,\n",
              "         0.16078431, 0.1254902 , 0.12941176, 0.12941176, 0.12941176,\n",
              "         0.12941176, 0.12941176, 0.1254902 ],\n",
              "        [0.1254902 , 0.12941176, 0.12941176, 0.1254902 , 0.12941176,\n",
              "         0.32941176, 0.78431373, 0.8627451 , 0.85882353, 0.85490196,\n",
              "         0.84313725, 0.84313725, 0.84705882, 0.85490196, 0.85882353,\n",
              "         0.85882353, 0.85098039, 0.85490196, 0.83137255, 0.43529412,\n",
              "         0.14509804, 0.12156863, 0.12941176, 0.12941176, 0.12941176,\n",
              "         0.12941176, 0.12941176, 0.1254902 ],\n",
              "        [0.1254902 , 0.12941176, 0.12941176, 0.12941176, 0.12156863,\n",
              "         0.19215686, 0.51372549, 0.76078431, 0.81176471, 0.86666667,\n",
              "         0.8627451 , 0.84705882, 0.8       , 0.75686275, 0.77254902,\n",
              "         0.80784314, 0.84705882, 0.85490196, 0.79607843, 0.2745098 ,\n",
              "         0.1254902 , 0.1254902 , 0.12941176, 0.12941176, 0.12941176,\n",
              "         0.12941176, 0.12941176, 0.1254902 ],\n",
              "        [0.1254902 , 0.12941176, 0.12941176, 0.12941176, 0.12941176,\n",
              "         0.13333333, 0.19215686, 0.34901961, 0.51764706, 0.74901961,\n",
              "         0.74509804, 0.6627451 , 0.4745098 , 0.28627451, 0.36078431,\n",
              "         0.58823529, 0.83529412, 0.84313725, 0.65490196, 0.18431373,\n",
              "         0.11764706, 0.12941176, 0.12941176, 0.12941176, 0.12941176,\n",
              "         0.12941176, 0.12941176, 0.1254902 ],\n",
              "        [0.1254902 , 0.12941176, 0.12941176, 0.12941176, 0.12941176,\n",
              "         0.12941176, 0.12941176, 0.13333333, 0.14901961, 0.20392157,\n",
              "         0.20392157, 0.18431373, 0.14117647, 0.12941176, 0.20392157,\n",
              "         0.59607843, 0.84313725, 0.82352941, 0.50196078, 0.16862745,\n",
              "         0.12156863, 0.12941176, 0.12941176, 0.12941176, 0.12941176,\n",
              "         0.12941176, 0.12941176, 0.1254902 ],\n",
              "        [0.1254902 , 0.12941176, 0.12941176, 0.12941176, 0.12941176,\n",
              "         0.12941176, 0.12941176, 0.12941176, 0.1254902 , 0.1254902 ,\n",
              "         0.1254902 , 0.1254902 , 0.12156863, 0.14901961, 0.4       ,\n",
              "         0.80784314, 0.86666667, 0.82352941, 0.49019608, 0.16470588,\n",
              "         0.12156863, 0.12941176, 0.12941176, 0.12941176, 0.12941176,\n",
              "         0.12941176, 0.12941176, 0.1254902 ],\n",
              "        [0.1254902 , 0.12941176, 0.12941176, 0.12941176, 0.12941176,\n",
              "         0.12941176, 0.12941176, 0.12941176, 0.12941176, 0.12941176,\n",
              "         0.12941176, 0.12941176, 0.12156863, 0.16470588, 0.52156863,\n",
              "         0.82352941, 0.8627451 , 0.81176471, 0.42745098, 0.15686275,\n",
              "         0.1254902 , 0.12941176, 0.12941176, 0.12941176, 0.12941176,\n",
              "         0.12941176, 0.12941176, 0.1254902 ],\n",
              "        [0.1254902 , 0.12941176, 0.12941176, 0.12941176, 0.12941176,\n",
              "         0.12941176, 0.12941176, 0.12941176, 0.12941176, 0.12941176,\n",
              "         0.12941176, 0.12941176, 0.12156863, 0.19215686, 0.72156863,\n",
              "         0.84705882, 0.8627451 , 0.8       , 0.25490196, 0.12941176,\n",
              "         0.12941176, 0.12941176, 0.12941176, 0.12941176, 0.12941176,\n",
              "         0.12941176, 0.12941176, 0.1254902 ],\n",
              "        [0.1254902 , 0.12941176, 0.12941176, 0.12941176, 0.12941176,\n",
              "         0.12941176, 0.12941176, 0.12941176, 0.12941176, 0.12941176,\n",
              "         0.12941176, 0.12941176, 0.11764706, 0.20784314, 0.82352941,\n",
              "         0.87843137, 0.8745098 , 0.76862745, 0.23529412, 0.12941176,\n",
              "         0.12941176, 0.12941176, 0.12941176, 0.12941176, 0.12941176,\n",
              "         0.12941176, 0.12941176, 0.1254902 ],\n",
              "        [0.1254902 , 0.12941176, 0.12941176, 0.12941176, 0.12941176,\n",
              "         0.12941176, 0.12941176, 0.12941176, 0.12941176, 0.12941176,\n",
              "         0.12941176, 0.12941176, 0.11764706, 0.18823529, 0.6745098 ,\n",
              "         0.71764706, 0.69803922, 0.48235294, 0.15686275, 0.1254902 ,\n",
              "         0.12941176, 0.12941176, 0.12941176, 0.12941176, 0.12941176,\n",
              "         0.12941176, 0.12941176, 0.1254902 ],\n",
              "        [0.1254902 , 0.12941176, 0.12941176, 0.12941176, 0.12941176,\n",
              "         0.12941176, 0.12941176, 0.12941176, 0.12941176, 0.12941176,\n",
              "         0.12941176, 0.12941176, 0.12941176, 0.12941176, 0.13333333,\n",
              "         0.13333333, 0.1372549 , 0.13333333, 0.12941176, 0.12941176,\n",
              "         0.12941176, 0.12941176, 0.12941176, 0.12941176, 0.12941176,\n",
              "         0.12941176, 0.12941176, 0.1254902 ],\n",
              "        [0.12156863, 0.1254902 , 0.1254902 , 0.1254902 , 0.1254902 ,\n",
              "         0.1254902 , 0.1254902 , 0.1254902 , 0.1254902 , 0.1254902 ,\n",
              "         0.1254902 , 0.1254902 , 0.1254902 , 0.1254902 , 0.12156863,\n",
              "         0.12156863, 0.12156863, 0.1254902 , 0.1254902 , 0.1254902 ,\n",
              "         0.1254902 , 0.1254902 , 0.1254902 , 0.1254902 , 0.1254902 ,\n",
              "         0.1254902 , 0.1254902 , 0.12156863],\n",
              "        [0.15686275, 0.16470588, 0.16078431, 0.16078431, 0.16470588,\n",
              "         0.16078431, 0.16078431, 0.16078431, 0.16078431, 0.16078431,\n",
              "         0.15686275, 0.16078431, 0.16078431, 0.16078431, 0.16078431,\n",
              "         0.15686275, 0.16078431, 0.16078431, 0.16078431, 0.16078431,\n",
              "         0.15686275, 0.16078431, 0.16078431, 0.16078431, 0.16078431,\n",
              "         0.16078431, 0.16078431, 0.16078431]]])"
            ]
          },
          "metadata": {},
          "execution_count": 76
        }
      ],
      "source": [
        "# Normalise the image array\n",
        "new_image_normal=new_image_arr/255.0\n",
        "new_image_normal"
      ]
    },
    {
      "cell_type": "code",
      "execution_count": 77,
      "metadata": {
        "colab": {
          "base_uri": "https://localhost:8080/"
        },
        "id": "zInC6N3axYmd",
        "outputId": "d87f4b60-0b70-47de-f117-c9748814b0ca"
      },
      "outputs": [
        {
          "output_type": "stream",
          "name": "stdout",
          "text": [
            "1/1 [==============================] - 0s 18ms/step\n"
          ]
        },
        {
          "output_type": "execute_result",
          "data": {
            "text/plain": [
              "array([[2.2982199e-06, 3.2962084e-09, 9.7276665e-05, 1.8438399e-08,\n",
              "        9.9968135e-01, 6.6902523e-08, 4.5328814e-08, 2.8496505e-09,\n",
              "        1.9309828e-08, 2.1886895e-04]], dtype=float32)"
            ]
          },
          "metadata": {},
          "execution_count": 77
        }
      ],
      "source": [
        "#new_image=np.array(new_image,(1,28,28))\n",
        "# Let's predict the image\n",
        "prediction = model.predict(new_image_normal)\n",
        "prediction"
      ]
    },
    {
      "cell_type": "code",
      "execution_count": 78,
      "metadata": {
        "colab": {
          "base_uri": "https://localhost:8080/"
        },
        "id": "CToUhg7sxfni",
        "outputId": "6110bb59-2b14-4cea-8cb3-d2f068820c79"
      },
      "outputs": [
        {
          "output_type": "execute_result",
          "data": {
            "text/plain": [
              "4"
            ]
          },
          "metadata": {},
          "execution_count": 78
        }
      ],
      "source": [
        "# Let's find the class with the highest probability\n",
        "predicted_class=np.argmax(prediction)\n",
        "predicted_class"
      ]
    },
    {
      "cell_type": "markdown",
      "source": [
        "## Final Remark:\n",
        "* This is very usefull model and it's just starting we can explore more on this dataset.\n",
        "* The use of digit classification is very vast like: Number Plate Detction & Handwritten analysi etc.\n",
        "* We wil continue to learn and improving our selfs.  \n",
        "```\n",
        "Thanking You!\n",
        "```"
      ],
      "metadata": {
        "id": "PsTVHWrfntVo"
      }
    },
    {
      "cell_type": "code",
      "execution_count": 78,
      "metadata": {
        "id": "aTbh57zVz14z"
      },
      "outputs": [],
      "source": []
    }
  ],
  "metadata": {
    "colab": {
      "provenance": []
    },
    "kernelspec": {
      "display_name": "Python 3 (ipykernel)",
      "language": "python",
      "name": "python3"
    },
    "language_info": {
      "codemirror_mode": {
        "name": "ipython",
        "version": 3
      },
      "file_extension": ".py",
      "mimetype": "text/x-python",
      "name": "python",
      "nbconvert_exporter": "python",
      "pygments_lexer": "ipython3",
      "version": "3.9.12"
    }
  },
  "nbformat": 4,
  "nbformat_minor": 0
}