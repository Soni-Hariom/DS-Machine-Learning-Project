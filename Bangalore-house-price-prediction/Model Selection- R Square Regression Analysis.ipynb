{
 "cells": [
  {
   "cell_type": "markdown",
   "id": "d6cfde9f",
   "metadata": {},
   "source": [
    "# R- Squared Regression Analysis:"
   ]
  },
  {
   "cell_type": "markdown",
   "id": "f8d21d36",
   "metadata": {},
   "source": [
    "![](https://miro.medium.com/max/710/0*M75Q957hPBZm57-_)"
   ]
  },
  {
   "cell_type": "markdown",
   "id": "f1c6118b",
   "metadata": {},
   "source": [
    "## Outline:\n",
    "* What is Residual?\n",
    "* What is R Square?\n",
    "* Formula?\n",
    "* What is goodness of fit?\n",
    "* Best R-sqrt score?\n",
    "* Practical"
   ]
  },
  {
   "cell_type": "markdown",
   "id": "addc5072",
   "metadata": {},
   "source": [
    "## What is Residual?\n",
    "```\n",
    "Residual = Observed value -  Regression Line Fitted Value = (Y - Y^)\n",
    "\n",
    "```\n",
    "* Minimum the Residual is the best."
   ]
  },
  {
   "cell_type": "markdown",
   "id": "ac7ec367",
   "metadata": {},
   "source": [
    "## What is R-Square?\n",
    "* It is a statistical measure to how close the data are to the fitted regression line. It is also known as the `coefficient of determination`, or `coefficient of multiple determination` for Multiple Regression.\n",
    "* 0 < value of R-Square < 1\n",
    "* 1 means 100% - The Best score\n",
    "* 0 means 0% - The worst score"
   ]
  },
  {
   "cell_type": "markdown",
   "id": "eef573af",
   "metadata": {},
   "source": [
    "## Formula:\n",
    "<img src='https://cdn-images-1.medium.com/max/1600/0*nMzUDuKtVtzKgESx.png' width='400' hight='400'>\n",
    "---------------------------------------------------------------------------------------------------------------------------------------------------------------------------------------------------\n",
    "<img src='https://th.bing.com/th/id/OIP.FuWG6941DytF8jJtCALxFAAAAA?pid=ImgDet&rs=1' width='400' hight='400'>"
   ]
  },
  {
   "cell_type": "markdown",
   "id": "0473e203",
   "metadata": {},
   "source": [
    "## Practical: We use the Banglore House Prediction cleaned data"
   ]
  },
  {
   "cell_type": "markdown",
   "id": "37e9cca0",
   "metadata": {},
   "source": [
    "### Step 1: Loading the libraries:"
   ]
  },
  {
   "cell_type": "code",
   "execution_count": 1,
   "id": "a2dba533",
   "metadata": {},
   "outputs": [],
   "source": [
    "import numpy as np\n",
    "import pandas as pd\n",
    "import matplotlib.pyplot as plt\n",
    "import seaborn as sns"
   ]
  },
  {
   "cell_type": "markdown",
   "id": "ffe7a09a",
   "metadata": {},
   "source": [
    "### Step 2: Loading The Dataset:"
   ]
  },
  {
   "cell_type": "code",
   "execution_count": 2,
   "id": "eb4e711b",
   "metadata": {},
   "outputs": [],
   "source": [
    "df=pd.read_csv('Cleaned Banglore House Price Prediction Data.csv')"
   ]
  },
  {
   "cell_type": "code",
   "execution_count": 3,
   "id": "4e7002ea",
   "metadata": {},
   "outputs": [
    {
     "data": {
      "text/html": [
       "<div>\n",
       "<style scoped>\n",
       "    .dataframe tbody tr th:only-of-type {\n",
       "        vertical-align: middle;\n",
       "    }\n",
       "\n",
       "    .dataframe tbody tr th {\n",
       "        vertical-align: top;\n",
       "    }\n",
       "\n",
       "    .dataframe thead th {\n",
       "        text-align: right;\n",
       "    }\n",
       "</style>\n",
       "<table border=\"1\" class=\"dataframe\">\n",
       "  <thead>\n",
       "    <tr style=\"text-align: right;\">\n",
       "      <th></th>\n",
       "      <th>area_type</th>\n",
       "      <th>availability</th>\n",
       "      <th>location</th>\n",
       "      <th>bath</th>\n",
       "      <th>balcony</th>\n",
       "      <th>price</th>\n",
       "      <th>new_size</th>\n",
       "      <th>new_total_sqft</th>\n",
       "      <th>price_per_sqft</th>\n",
       "    </tr>\n",
       "  </thead>\n",
       "  <tbody>\n",
       "    <tr>\n",
       "      <th>0</th>\n",
       "      <td>3</td>\n",
       "      <td>38</td>\n",
       "      <td>341</td>\n",
       "      <td>2.0</td>\n",
       "      <td>1.0</td>\n",
       "      <td>39.07</td>\n",
       "      <td>2</td>\n",
       "      <td>1056.0</td>\n",
       "      <td>3699.810606</td>\n",
       "    </tr>\n",
       "    <tr>\n",
       "      <th>1</th>\n",
       "      <td>2</td>\n",
       "      <td>77</td>\n",
       "      <td>251</td>\n",
       "      <td>5.0</td>\n",
       "      <td>3.0</td>\n",
       "      <td>120.00</td>\n",
       "      <td>4</td>\n",
       "      <td>2600.0</td>\n",
       "      <td>4615.384615</td>\n",
       "    </tr>\n",
       "    <tr>\n",
       "      <th>2</th>\n",
       "      <td>0</td>\n",
       "      <td>77</td>\n",
       "      <td>964</td>\n",
       "      <td>2.0</td>\n",
       "      <td>3.0</td>\n",
       "      <td>62.00</td>\n",
       "      <td>3</td>\n",
       "      <td>1440.0</td>\n",
       "      <td>4305.555556</td>\n",
       "    </tr>\n",
       "    <tr>\n",
       "      <th>3</th>\n",
       "      <td>3</td>\n",
       "      <td>77</td>\n",
       "      <td>629</td>\n",
       "      <td>3.0</td>\n",
       "      <td>1.0</td>\n",
       "      <td>95.00</td>\n",
       "      <td>3</td>\n",
       "      <td>1521.0</td>\n",
       "      <td>6245.890861</td>\n",
       "    </tr>\n",
       "    <tr>\n",
       "      <th>4</th>\n",
       "      <td>3</td>\n",
       "      <td>77</td>\n",
       "      <td>592</td>\n",
       "      <td>2.0</td>\n",
       "      <td>1.0</td>\n",
       "      <td>51.00</td>\n",
       "      <td>2</td>\n",
       "      <td>1200.0</td>\n",
       "      <td>4250.000000</td>\n",
       "    </tr>\n",
       "  </tbody>\n",
       "</table>\n",
       "</div>"
      ],
      "text/plain": [
       "   area_type  availability  location  bath  balcony   price  new_size  \\\n",
       "0          3            38       341   2.0      1.0   39.07         2   \n",
       "1          2            77       251   5.0      3.0  120.00         4   \n",
       "2          0            77       964   2.0      3.0   62.00         3   \n",
       "3          3            77       629   3.0      1.0   95.00         3   \n",
       "4          3            77       592   2.0      1.0   51.00         2   \n",
       "\n",
       "   new_total_sqft  price_per_sqft  \n",
       "0          1056.0     3699.810606  \n",
       "1          2600.0     4615.384615  \n",
       "2          1440.0     4305.555556  \n",
       "3          1521.0     6245.890861  \n",
       "4          1200.0     4250.000000  "
      ]
     },
     "execution_count": 3,
     "metadata": {},
     "output_type": "execute_result"
    }
   ],
   "source": [
    "df.head()"
   ]
  },
  {
   "cell_type": "markdown",
   "id": "ec4932e3",
   "metadata": {},
   "source": [
    "#### Note:\n",
    "* This is our cleaned data we have cleaned this in Linera Regression Model.\n",
    "* Now again we use `Linear Regression` use perform the `Ridge & Lasso` techniques."
   ]
  },
  {
   "cell_type": "markdown",
   "id": "eb76c7ee",
   "metadata": {},
   "source": [
    "### Step 3: Performing The Linear Regression Method:"
   ]
  },
  {
   "cell_type": "code",
   "execution_count": 4,
   "id": "f16a69d0",
   "metadata": {},
   "outputs": [
    {
     "name": "stdout",
     "output_type": "stream",
     "text": [
      "Shape of X: (11018, 8)\n",
      "Shape of y: (11018,)\n"
     ]
    }
   ],
   "source": [
    "# Spliting the dataset into Target (y) and Features(X) variables:\n",
    "X=df.drop('price',axis=1)\n",
    "y=df['price']\n",
    "\n",
    "print('Shape of X:', X.shape)\n",
    "print('Shape of y:',y.shape)"
   ]
  },
  {
   "cell_type": "code",
   "execution_count": 5,
   "id": "33206fbc",
   "metadata": {},
   "outputs": [],
   "source": [
    "from sklearn.model_selection import train_test_split"
   ]
  },
  {
   "cell_type": "code",
   "execution_count": 6,
   "id": "cb8fe08c",
   "metadata": {},
   "outputs": [
    {
     "name": "stdout",
     "output_type": "stream",
     "text": [
      "Shape of X_train =  (8814, 8)\n",
      "Shape of y_train =  (8814,)\n",
      "Shape of X_test =  (2204, 8)\n",
      "Shape of y_test =  (2204,)\n"
     ]
    }
   ],
   "source": [
    "# Spliting the data into train & test part:\n",
    "X_train, X_test, y_train, y_test = train_test_split(X,y,test_size=.2, random_state=6)\n",
    "\n",
    "print('Shape of X_train = ', X_train.shape)\n",
    "print('Shape of y_train = ', y_train.shape)\n",
    "print('Shape of X_test = ', X_test.shape)\n",
    "print('Shape of y_test = ', y_test.shape)"
   ]
  },
  {
   "cell_type": "code",
   "execution_count": 7,
   "id": "3b8a0800",
   "metadata": {},
   "outputs": [],
   "source": [
    "'''\n",
    "Feature scalling of the dataset: We'll normalize the different numerica value of the data \n",
    "                                 so that machine can easly understand.\n",
    "'''\n",
    "from sklearn.preprocessing import StandardScaler\n",
    "sc=StandardScaler()\n",
    "sc.fit(X_train)\n",
    "X_train=sc.transform(X_train)\n",
    "X_test=sc.transform(X_test)"
   ]
  },
  {
   "cell_type": "code",
   "execution_count": 8,
   "id": "11447a12",
   "metadata": {},
   "outputs": [
    {
     "data": {
      "text/plain": [
       "LinearRegression()"
      ]
     },
     "execution_count": 8,
     "metadata": {},
     "output_type": "execute_result"
    }
   ],
   "source": [
    "# Linear Regression ML Model Training:\n",
    "from sklearn.linear_model import LinearRegression\n",
    "lr=LinearRegression()\n",
    "\n",
    "lr.fit(X_train,y_train)"
   ]
  },
  {
   "cell_type": "code",
   "execution_count": 11,
   "id": "79f3e297",
   "metadata": {},
   "outputs": [
    {
     "data": {
      "text/plain": [
       "array([ 0.15192576, -0.42192927, -0.22437487, -0.17351644,  0.15535644,\n",
       "       -4.40445112, 55.26726976, 25.18508851])"
      ]
     },
     "execution_count": 11,
     "metadata": {},
     "output_type": "execute_result"
    }
   ],
   "source": [
    "'''Exploring The Trained Data\n",
    "'''\n",
    "# Seeing the coefficent values:\n",
    "lr.coef_"
   ]
  },
  {
   "cell_type": "code",
   "execution_count": 12,
   "id": "903aa127",
   "metadata": {},
   "outputs": [
    {
     "data": {
      "text/plain": [
       "82.08727989562063"
      ]
     },
     "execution_count": 12,
     "metadata": {},
     "output_type": "execute_result"
    }
   ],
   "source": [
    "# Seeing the intersect value:\n",
    "lr.intercept_"
   ]
  },
  {
   "cell_type": "code",
   "execution_count": 13,
   "id": "59ef6ad9",
   "metadata": {},
   "outputs": [
    {
     "data": {
      "text/plain": [
       "array([107.6745738 ,  34.500194  ,  60.94472328, ...,  82.4907132 ,\n",
       "       147.67319159, 163.35794178])"
      ]
     },
     "execution_count": 13,
     "metadata": {},
     "output_type": "execute_result"
    }
   ],
   "source": [
    "# Testing the model:\n",
    "lr.predict(X_test)"
   ]
  },
  {
   "cell_type": "code",
   "execution_count": 14,
   "id": "a58a3534",
   "metadata": {},
   "outputs": [
    {
     "data": {
      "text/plain": [
       "4064     104.00\n",
       "7855      42.81\n",
       "10856     61.11\n",
       "4491      47.00\n",
       "9184      33.50\n",
       "          ...  \n",
       "3991      75.00\n",
       "26        57.39\n",
       "9239      80.00\n",
       "8944     150.00\n",
       "10194    170.00\n",
       "Name: price, Length: 2204, dtype: float64"
      ]
     },
     "execution_count": 14,
     "metadata": {},
     "output_type": "execute_result"
    }
   ],
   "source": [
    "# Verifing the actual values:\n",
    "y_test"
   ]
  },
  {
   "cell_type": "code",
   "execution_count": 15,
   "id": "7e2ef04a",
   "metadata": {},
   "outputs": [
    {
     "data": {
      "text/plain": [
       "0.94471512931249"
      ]
     },
     "execution_count": 15,
     "metadata": {},
     "output_type": "execute_result"
    }
   ],
   "source": [
    "# Checking the accuracy of the model:\n",
    "lr.score(X_test,y_test)"
   ]
  },
  {
   "cell_type": "markdown",
   "id": "ba1bb291",
   "metadata": {},
   "source": [
    "### Conclusion:\n",
    "* Our model is give us `94.4715%` accureacy which is impressive.\n",
    "* Now we need to evaluate the model."
   ]
  },
  {
   "cell_type": "markdown",
   "id": "1cfa7022",
   "metadata": {},
   "source": [
    "### Step 4: Model Evaluation:"
   ]
  },
  {
   "cell_type": "code",
   "execution_count": 16,
   "id": "29f108d8",
   "metadata": {},
   "outputs": [
    {
     "data": {
      "text/plain": [
       "array([107.6745738 ,  34.500194  ,  60.94472328, ...,  82.4907132 ,\n",
       "       147.67319159, 163.35794178])"
      ]
     },
     "execution_count": 16,
     "metadata": {},
     "output_type": "execute_result"
    }
   ],
   "source": [
    "# Predict the price (y^)\n",
    "y_pred = lr.predict(X_test)\n",
    "y_pred"
   ]
  },
  {
   "cell_type": "markdown",
   "id": "79ad7448",
   "metadata": {},
   "source": [
    "## R-Square:"
   ]
  },
  {
   "cell_type": "code",
   "execution_count": 17,
   "id": "f5427764",
   "metadata": {},
   "outputs": [],
   "source": [
    "# impoting the `r2_score` from `sklearn.metrics`:\n",
    "from sklearn.metrics import r2_score"
   ]
  },
  {
   "cell_type": "code",
   "execution_count": 18,
   "id": "d9a9f2f7",
   "metadata": {},
   "outputs": [
    {
     "data": {
      "text/plain": [
       "0.94471512931249"
      ]
     },
     "execution_count": 18,
     "metadata": {},
     "output_type": "execute_result"
    }
   ],
   "source": [
    "r2_score(y_test,y_pred)"
   ]
  },
  {
   "cell_type": "markdown",
   "id": "70b35eff",
   "metadata": {},
   "source": [
    "### Conclusion:\n",
    "* Our model's `r2 is approx equal to 1 i.e., 0.9447` which is good.\n",
    "\n",
    "```\n",
    "Thanking You!\n",
    "```"
   ]
  },
  {
   "cell_type": "code",
   "execution_count": null,
   "id": "03ca7459",
   "metadata": {},
   "outputs": [],
   "source": []
  }
 ],
 "metadata": {
  "kernelspec": {
   "display_name": "Python 3 (ipykernel)",
   "language": "python",
   "name": "python3"
  },
  "language_info": {
   "codemirror_mode": {
    "name": "ipython",
    "version": 3
   },
   "file_extension": ".py",
   "mimetype": "text/x-python",
   "name": "python",
   "nbconvert_exporter": "python",
   "pygments_lexer": "ipython3",
   "version": "3.9.12"
  }
 },
 "nbformat": 4,
 "nbformat_minor": 5
}
