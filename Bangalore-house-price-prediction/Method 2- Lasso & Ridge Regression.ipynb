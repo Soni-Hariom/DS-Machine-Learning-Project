{
 "cells": [
  {
   "cell_type": "markdown",
   "id": "ad36160d",
   "metadata": {},
   "source": [
    "# Lasso & Ridge Regression:"
   ]
  },
  {
   "cell_type": "markdown",
   "id": "3856556e",
   "metadata": {},
   "source": [
    "![](https://tyami.github.io/assets/images/post/ML/2020-10-15-ridge-and-lasso/2020-10-15-ridge-and-lasso-1-overview.png)"
   ]
  },
  {
   "cell_type": "markdown",
   "id": "504d601a",
   "metadata": {},
   "source": [
    "## Outline:\n",
    "* What is Lasso & Ridge Regression?\n",
    "* Practical"
   ]
  },
  {
   "cell_type": "markdown",
   "id": "c2ca96b3",
   "metadata": {},
   "source": [
    "## What is Lasso & Ridge Regression?"
   ]
  },
  {
   "cell_type": "markdown",
   "id": "adf7e262",
   "metadata": {},
   "source": [
    "<img src='https://miro.medium.com/max/552/1*zuyjF8wKPxCC7QSoidpwxA.png' width='600' hight='600'>"
   ]
  },
  {
   "cell_type": "markdown",
   "id": "e2fb859d",
   "metadata": {},
   "source": [
    "* Before learning L&R Regression you need to understand the Linear Regression.\n",
    "* In above digram you can see the three lines for different regressions.\n",
    "* **Linear Regression:** Try to best fit line on the dataset. But in this process our model may be overfit and during the test it gives us maximum error.\n",
    "* To reduce this error we need to penalized our model.\n",
    "* To penalize our model we use Regularized methods like: `L_1 & L_2`.\n",
    "* Using **Lasso & Ridge techniques** we generalized our Linear Regression Model. So that during model deployment we could reduce or clear the maximum errors."
   ]
  },
  {
   "cell_type": "markdown",
   "id": "950c95d0",
   "metadata": {},
   "source": [
    "## Mathematical Expression Of Lasso & Ridge Regression:\n",
    "![](https://static.wixstatic.com/media/b5b5ca_cb3522fa2f8446498f164a2e694efbd2~mv2.png/v1/fill/w_591,h_436,al_c,lg_1,q_85,enc_auto/b5b5ca_cb3522fa2f8446498f164a2e694efbd2~mv2.png)"
   ]
  },
  {
   "cell_type": "markdown",
   "id": "28b54818",
   "metadata": {},
   "source": [
    "## Ridge Regression:\n",
    "![](https://static.wixstatic.com/media/b5b5ca_2f72ca6ab0ea4792a9fbd35230bb9ef7~mv2.png/v1/fill/w_740,h_91,al_c,q_85,usm_0.66_1.00_0.01,enc_auto/b5b5ca_2f72ca6ab0ea4792a9fbd35230bb9ef7~mv2.png)"
   ]
  },
  {
   "cell_type": "markdown",
   "id": "5288844a",
   "metadata": {},
   "source": [
    "### Note:\n",
    "* The LHS side of the Ridge Regression equation is called `Cos function`.\n",
    "* **Cos Function:** Square of the difference of the actual and predicted value.\n",
    "* We try to minimize our `cos function` until `zero`. \n",
    "* To generalize our Linear Regression model add `lambda` and multiply with the **square of the `slop`**."
   ]
  },
  {
   "cell_type": "markdown",
   "id": "39796bd6",
   "metadata": {},
   "source": [
    "## Lasso Regression\n",
    "![](https://static.wixstatic.com/media/b5b5ca_7c09a96763784778ae7ddcf0aa4dde88~mv2.png/v1/fill/w_740,h_85,al_c,q_85,usm_0.66_1.00_0.01,enc_auto/b5b5ca_7c09a96763784778ae7ddcf0aa4dde88~mv2.png)"
   ]
  },
  {
   "cell_type": "markdown",
   "id": "a0346147",
   "metadata": {},
   "source": [
    "### Note:\n",
    "* The LHS side of the Lasso Regression equation is called `Cos function`.\n",
    "* **Cos Function:** Square of the difference of the actual and predicted value.\n",
    "* We try to minimize our `cos function` until `zero`. \n",
    "* To generalize our Linear Regression model add `lambda` and multiply with the **magnitude of the `slop`**."
   ]
  },
  {
   "cell_type": "markdown",
   "id": "ce32649f",
   "metadata": {},
   "source": [
    "## Practical: We use the Banglore House Prediction cleaned data"
   ]
  },
  {
   "cell_type": "markdown",
   "id": "e1fb050a",
   "metadata": {},
   "source": [
    "### Step 1: Loading the libraries:"
   ]
  },
  {
   "cell_type": "code",
   "execution_count": 1,
   "id": "c30599f3",
   "metadata": {},
   "outputs": [],
   "source": [
    "import numpy as np\n",
    "import pandas as pd\n",
    "import matplotlib.pyplot as plt\n",
    "import seaborn as sns"
   ]
  },
  {
   "cell_type": "markdown",
   "id": "96fe07e7",
   "metadata": {},
   "source": [
    "### Step 2: Loading The Dataset:"
   ]
  },
  {
   "cell_type": "code",
   "execution_count": 2,
   "id": "b4c615f7",
   "metadata": {},
   "outputs": [],
   "source": [
    "df=pd.read_csv('Cleaned Banglore House Price Prediction Data.csv')"
   ]
  },
  {
   "cell_type": "code",
   "execution_count": 3,
   "id": "7bcbf65d",
   "metadata": {},
   "outputs": [
    {
     "data": {
      "text/html": [
       "<div>\n",
       "<style scoped>\n",
       "    .dataframe tbody tr th:only-of-type {\n",
       "        vertical-align: middle;\n",
       "    }\n",
       "\n",
       "    .dataframe tbody tr th {\n",
       "        vertical-align: top;\n",
       "    }\n",
       "\n",
       "    .dataframe thead th {\n",
       "        text-align: right;\n",
       "    }\n",
       "</style>\n",
       "<table border=\"1\" class=\"dataframe\">\n",
       "  <thead>\n",
       "    <tr style=\"text-align: right;\">\n",
       "      <th></th>\n",
       "      <th>area_type</th>\n",
       "      <th>availability</th>\n",
       "      <th>location</th>\n",
       "      <th>bath</th>\n",
       "      <th>balcony</th>\n",
       "      <th>price</th>\n",
       "      <th>new_size</th>\n",
       "      <th>new_total_sqft</th>\n",
       "      <th>price_per_sqft</th>\n",
       "    </tr>\n",
       "  </thead>\n",
       "  <tbody>\n",
       "    <tr>\n",
       "      <th>0</th>\n",
       "      <td>3</td>\n",
       "      <td>38</td>\n",
       "      <td>341</td>\n",
       "      <td>2.0</td>\n",
       "      <td>1.0</td>\n",
       "      <td>39.07</td>\n",
       "      <td>2</td>\n",
       "      <td>1056.0</td>\n",
       "      <td>3699.810606</td>\n",
       "    </tr>\n",
       "    <tr>\n",
       "      <th>1</th>\n",
       "      <td>2</td>\n",
       "      <td>77</td>\n",
       "      <td>251</td>\n",
       "      <td>5.0</td>\n",
       "      <td>3.0</td>\n",
       "      <td>120.00</td>\n",
       "      <td>4</td>\n",
       "      <td>2600.0</td>\n",
       "      <td>4615.384615</td>\n",
       "    </tr>\n",
       "    <tr>\n",
       "      <th>2</th>\n",
       "      <td>0</td>\n",
       "      <td>77</td>\n",
       "      <td>964</td>\n",
       "      <td>2.0</td>\n",
       "      <td>3.0</td>\n",
       "      <td>62.00</td>\n",
       "      <td>3</td>\n",
       "      <td>1440.0</td>\n",
       "      <td>4305.555556</td>\n",
       "    </tr>\n",
       "    <tr>\n",
       "      <th>3</th>\n",
       "      <td>3</td>\n",
       "      <td>77</td>\n",
       "      <td>629</td>\n",
       "      <td>3.0</td>\n",
       "      <td>1.0</td>\n",
       "      <td>95.00</td>\n",
       "      <td>3</td>\n",
       "      <td>1521.0</td>\n",
       "      <td>6245.890861</td>\n",
       "    </tr>\n",
       "    <tr>\n",
       "      <th>4</th>\n",
       "      <td>3</td>\n",
       "      <td>77</td>\n",
       "      <td>592</td>\n",
       "      <td>2.0</td>\n",
       "      <td>1.0</td>\n",
       "      <td>51.00</td>\n",
       "      <td>2</td>\n",
       "      <td>1200.0</td>\n",
       "      <td>4250.000000</td>\n",
       "    </tr>\n",
       "  </tbody>\n",
       "</table>\n",
       "</div>"
      ],
      "text/plain": [
       "   area_type  availability  location  bath  balcony   price  new_size  \\\n",
       "0          3            38       341   2.0      1.0   39.07         2   \n",
       "1          2            77       251   5.0      3.0  120.00         4   \n",
       "2          0            77       964   2.0      3.0   62.00         3   \n",
       "3          3            77       629   3.0      1.0   95.00         3   \n",
       "4          3            77       592   2.0      1.0   51.00         2   \n",
       "\n",
       "   new_total_sqft  price_per_sqft  \n",
       "0          1056.0     3699.810606  \n",
       "1          2600.0     4615.384615  \n",
       "2          1440.0     4305.555556  \n",
       "3          1521.0     6245.890861  \n",
       "4          1200.0     4250.000000  "
      ]
     },
     "execution_count": 3,
     "metadata": {},
     "output_type": "execute_result"
    }
   ],
   "source": [
    "df.head()"
   ]
  },
  {
   "cell_type": "markdown",
   "id": "3f1bbadf",
   "metadata": {},
   "source": [
    "#### Note:\n",
    "* This is our cleaned data we have cleaned this in Linera Regression Model.\n",
    "* Now again we use `Linear Regression` use perform the `Ridge & Lasso` techniques."
   ]
  },
  {
   "cell_type": "markdown",
   "id": "33784223",
   "metadata": {},
   "source": [
    "### Step 3: Performing The Linear Regression Method:"
   ]
  },
  {
   "cell_type": "code",
   "execution_count": 4,
   "id": "e0dbe092",
   "metadata": {},
   "outputs": [
    {
     "name": "stdout",
     "output_type": "stream",
     "text": [
      "Shape of X: (11018, 8)\n",
      "Shape of y: (11018,)\n"
     ]
    }
   ],
   "source": [
    "# Spliting the dataset into Target (y) and Features(X) variables:\n",
    "X=df.drop('price',axis=1)\n",
    "y=df['price']\n",
    "\n",
    "print('Shape of X:', X.shape)\n",
    "print('Shape of y:',y.shape)"
   ]
  },
  {
   "cell_type": "code",
   "execution_count": 5,
   "id": "f6a28cf0",
   "metadata": {},
   "outputs": [],
   "source": [
    "# Importing the `train_test_split` library form sklearn.model_selection\n",
    "from sklearn.model_selection import train_test_split"
   ]
  },
  {
   "cell_type": "code",
   "execution_count": 6,
   "id": "6686db8b",
   "metadata": {},
   "outputs": [
    {
     "name": "stdout",
     "output_type": "stream",
     "text": [
      "Shape of X_train =  (8814, 8)\n",
      "Shape of y_train =  (8814,)\n",
      "Shape of X_test =  (2204, 8)\n",
      "Shape of y_test =  (2204,)\n"
     ]
    }
   ],
   "source": [
    "# Spliting the data into train & test part:\n",
    "X_train, X_test, y_train, y_test = train_test_split(X,y,test_size=.2, random_state=6)\n",
    "\n",
    "print('Shape of X_train = ', X_train.shape)\n",
    "print('Shape of y_train = ', y_train.shape)\n",
    "print('Shape of X_test = ', X_test.shape)\n",
    "print('Shape of y_test = ', y_test.shape)"
   ]
  },
  {
   "cell_type": "code",
   "execution_count": 7,
   "id": "b73f7bc2",
   "metadata": {},
   "outputs": [],
   "source": [
    "'''\n",
    "Feature scalling of the dataset: We'll normalize the different numerica value of the data \n",
    "                                 so that machine can easly understand.\n",
    "'''\n",
    "from sklearn.preprocessing import StandardScaler\n",
    "sc=StandardScaler()\n",
    "sc.fit(X_train)\n",
    "X_train=sc.transform(X_train)\n",
    "X_test=sc.transform(X_test)"
   ]
  },
  {
   "cell_type": "code",
   "execution_count": 8,
   "id": "e0b36122",
   "metadata": {},
   "outputs": [
    {
     "data": {
      "text/plain": [
       "LinearRegression()"
      ]
     },
     "execution_count": 8,
     "metadata": {},
     "output_type": "execute_result"
    }
   ],
   "source": [
    "# Linear Regression ML Model Training:\n",
    "from sklearn.linear_model import LinearRegression\n",
    "lr=LinearRegression()\n",
    "\n",
    "lr.fit(X_train,y_train)"
   ]
  },
  {
   "cell_type": "code",
   "execution_count": 9,
   "id": "9e9650e6",
   "metadata": {},
   "outputs": [
    {
     "data": {
      "text/plain": [
       "array([ 0.15192576, -0.42192927, -0.22437487, -0.17351644,  0.15535644,\n",
       "       -4.40445112, 55.26726976, 25.18508851])"
      ]
     },
     "execution_count": 9,
     "metadata": {},
     "output_type": "execute_result"
    }
   ],
   "source": [
    "'''Exploring The Trained Data\n",
    "'''\n",
    "# Seeing the coefficent values:\n",
    "lr.coef_"
   ]
  },
  {
   "cell_type": "code",
   "execution_count": 10,
   "id": "b89178ba",
   "metadata": {},
   "outputs": [
    {
     "data": {
      "text/plain": [
       "82.08727989562063"
      ]
     },
     "execution_count": 10,
     "metadata": {},
     "output_type": "execute_result"
    }
   ],
   "source": [
    "# Seeing the intersect value:\n",
    "lr.intercept_"
   ]
  },
  {
   "cell_type": "code",
   "execution_count": 11,
   "id": "06e2f6c6",
   "metadata": {},
   "outputs": [
    {
     "data": {
      "text/plain": [
       "array([107.6745738 ,  34.500194  ,  60.94472328, ...,  82.4907132 ,\n",
       "       147.67319159, 163.35794178])"
      ]
     },
     "execution_count": 11,
     "metadata": {},
     "output_type": "execute_result"
    }
   ],
   "source": [
    "# Testing the model:\n",
    "lr.predict(X_test)"
   ]
  },
  {
   "cell_type": "code",
   "execution_count": 12,
   "id": "545c3741",
   "metadata": {},
   "outputs": [
    {
     "data": {
      "text/plain": [
       "4064     104.00\n",
       "7855      42.81\n",
       "10856     61.11\n",
       "4491      47.00\n",
       "9184      33.50\n",
       "          ...  \n",
       "3991      75.00\n",
       "26        57.39\n",
       "9239      80.00\n",
       "8944     150.00\n",
       "10194    170.00\n",
       "Name: price, Length: 2204, dtype: float64"
      ]
     },
     "execution_count": 12,
     "metadata": {},
     "output_type": "execute_result"
    }
   ],
   "source": [
    "# Verifing the actual values:\n",
    "y_test"
   ]
  },
  {
   "cell_type": "code",
   "execution_count": 24,
   "id": "8c5dabe8",
   "metadata": {},
   "outputs": [
    {
     "data": {
      "text/plain": [
       "0.94471512931249"
      ]
     },
     "execution_count": 24,
     "metadata": {},
     "output_type": "execute_result"
    }
   ],
   "source": [
    "# Checking the accuracy of the model:\n",
    "lr.score(X_test,y_test)"
   ]
  },
  {
   "cell_type": "markdown",
   "id": "97e2e75c",
   "metadata": {},
   "source": [
    "### Conclusion:\n",
    "* Our model is give us `94.4715%` accureacy which is impressive.\n",
    "* But we need to improve the accuracy."
   ]
  },
  {
   "cell_type": "markdown",
   "id": "419ddfca",
   "metadata": {},
   "source": [
    "### Step 4: Implementing Ridge & Lasso Regression:"
   ]
  },
  {
   "cell_type": "code",
   "execution_count": 14,
   "id": "f3928cb3",
   "metadata": {},
   "outputs": [],
   "source": [
    "# importing the library:\n",
    "from sklearn.linear_model import Ridge, Lasso"
   ]
  },
  {
   "cell_type": "code",
   "execution_count": 15,
   "id": "11b863a0",
   "metadata": {},
   "outputs": [
    {
     "data": {
      "text/plain": [
       "0.9447160002376536"
      ]
     },
     "execution_count": 15,
     "metadata": {},
     "output_type": "execute_result"
    }
   ],
   "source": [
    "# 1. Ridge Regression:implimenting onto the train & test dataset:\n",
    "rd=Ridge()\n",
    "\n",
    "# Fitting onto the dataset\n",
    "rd.fit(X_train,y_train)\n",
    "\n",
    "# Calculating the score\n",
    "rd.score(X_test,y_test)"
   ]
  },
  {
   "cell_type": "markdown",
   "id": "e43e81b5",
   "metadata": {},
   "source": [
    "### Conclusion:\n",
    "* Our model is give us `94.4716%` accureacy which is incremant of just `.0001%`.\n",
    "* But we need to improve the accuracy."
   ]
  },
  {
   "cell_type": "code",
   "execution_count": 16,
   "id": "cc28cfd2",
   "metadata": {},
   "outputs": [
    {
     "data": {
      "text/plain": [
       "0.9433947683102221"
      ]
     },
     "execution_count": 16,
     "metadata": {},
     "output_type": "execute_result"
    }
   ],
   "source": [
    "# 2. Lasso Regression: implimenting onto the trian & test dataset:\n",
    "ls=Lasso()\n",
    "\n",
    "# Fitting the dataset:\n",
    "ls.fit(X_train, y_train)\n",
    "\n",
    "# Calculating the score\n",
    "ls.score(X_test,y_test)"
   ]
  },
  {
   "cell_type": "markdown",
   "id": "887d7e88",
   "metadata": {},
   "source": [
    "### Conclusion:\n",
    "* Our model is give us `94.3394%` accureacy which is decremant of `0.1321%`.\n",
    "* But we need to improve the accuracy."
   ]
  },
  {
   "cell_type": "markdown",
   "id": "6bb262bc",
   "metadata": {},
   "source": [
    "### Step 5: Let's change the `alpha`:"
   ]
  },
  {
   "cell_type": "code",
   "execution_count": 20,
   "id": "500a66be",
   "metadata": {},
   "outputs": [
    {
     "data": {
      "text/plain": [
       "0.9447176552945601"
      ]
     },
     "execution_count": 20,
     "metadata": {},
     "output_type": "execute_result"
    }
   ],
   "source": [
    "# 1.1: Ridge Regression:implimenting onto the train & test dataset:\n",
    "rd2=Ridge(alpha=3)\n",
    "\n",
    "# Fitting onto the dataset\n",
    "rd2.fit(X_train,y_train)\n",
    "\n",
    "# Calculating the score\n",
    "rd2.score(X_test,y_test)"
   ]
  },
  {
   "cell_type": "markdown",
   "id": "877f192f",
   "metadata": {},
   "source": [
    "### Conclusion:\n",
    "* Nothing changed."
   ]
  },
  {
   "cell_type": "code",
   "execution_count": 23,
   "id": "cef9095b",
   "metadata": {},
   "outputs": [
    {
     "data": {
      "text/plain": [
       "0.9408991437885685"
      ]
     },
     "execution_count": 23,
     "metadata": {},
     "output_type": "execute_result"
    }
   ],
   "source": [
    "# 2.1: Lasso Regression: implimenting onto the trian & test dataset:\n",
    "ls2=Lasso(alpha=2)\n",
    "\n",
    "# Fitting the dataset:\n",
    "ls2.fit(X_train, y_train)\n",
    "\n",
    "# Calculating the score\n",
    "ls2.score(X_test,y_test)"
   ]
  },
  {
   "cell_type": "markdown",
   "id": "2e074cfe",
   "metadata": {},
   "source": [
    "### Conclusion:\n",
    "* Decreased our acurracy."
   ]
  },
  {
   "cell_type": "markdown",
   "id": "2c177813",
   "metadata": {},
   "source": [
    "## Remark:\n",
    "* As we are changing the value of `alpha` our model's accuracy is increasing or decreasing slowly.\n",
    "* So to automate this process we use **Hyper Parameter Tunning Method** so that our model predict more accurate value."
   ]
  },
  {
   "cell_type": "code",
   "execution_count": null,
   "id": "6db5af7a",
   "metadata": {},
   "outputs": [],
   "source": []
  }
 ],
 "metadata": {
  "kernelspec": {
   "display_name": "Python 3 (ipykernel)",
   "language": "python",
   "name": "python3"
  },
  "language_info": {
   "codemirror_mode": {
    "name": "ipython",
    "version": 3
   },
   "file_extension": ".py",
   "mimetype": "text/x-python",
   "name": "python",
   "nbconvert_exporter": "python",
   "pygments_lexer": "ipython3",
   "version": "3.9.12"
  }
 },
 "nbformat": 4,
 "nbformat_minor": 5
}
