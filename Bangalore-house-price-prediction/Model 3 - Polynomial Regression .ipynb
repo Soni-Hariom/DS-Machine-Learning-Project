{
 "cells": [
  {
   "cell_type": "markdown",
   "id": "a10adc7c",
   "metadata": {},
   "source": [
    "# Polynomial Regression Model:\n",
    "<img src='https://static.wixstatic.com/media/2d2ac8_52b733aca9e24d17839e87c2492dd634~mv2.png/v1/fill/w_623,h_321,al_c/2d2ac8_52b733aca9e24d17839e87c2492dd634~mv2.png' width='600' hight='600'>"
   ]
  },
  {
   "cell_type": "markdown",
   "id": "46461de4",
   "metadata": {},
   "source": [
    "## Outline:\n",
    "* What is Linear Regression?\n",
    "* What is Multilinear Linear Regression?\n",
    "* What is polynomial Regression?\n",
    "* Practical"
   ]
  },
  {
   "cell_type": "markdown",
   "id": "7c9a9ea3",
   "metadata": {},
   "source": [
    "## Linear Regression Model:\n",
    "<img src='https://th.bing.com/th/id/OIP.h5XnhwnY5kbxOFB4wbEFjwAAAA?pid=ImgDet&rs=1' width='400' hight='400'>"
   ]
  },
  {
   "cell_type": "markdown",
   "id": "ae04d6a7",
   "metadata": {},
   "source": [
    "### Note:\n",
    "* When our dataset is linear distributed with single feature then we use this model."
   ]
  },
  {
   "cell_type": "markdown",
   "id": "df25389a",
   "metadata": {},
   "source": [
    "## Multilinear Regression Model:\n",
    "<img src='https://kr.mathworks.com/help/stats/categorial_slopes1.png' width='400' hight='400'>"
   ]
  },
  {
   "cell_type": "markdown",
   "id": "0e14b30c",
   "metadata": {},
   "source": [
    "### Note:\n",
    "* When we have multiple features then we use this model."
   ]
  },
  {
   "cell_type": "markdown",
   "id": "365304d2",
   "metadata": {},
   "source": [
    "## Polynomial Regression Model:\n",
    "<img src='https://cdn-images-1.medium.com/max/1200/1*Cat1swI8xmNYui6w5AYp8A.gif' width='400' hight='400'>"
   ]
  },
  {
   "cell_type": "markdown",
   "id": "55b901cb",
   "metadata": {},
   "source": [
    "### Note:\n",
    "* When our data points distributed exponential (non-linear) then we use this model."
   ]
  },
  {
   "cell_type": "markdown",
   "id": "c18e9680",
   "metadata": {},
   "source": [
    "## Formule:\n",
    "<img src='https://miro.medium.com/max/2600/1*2ZnDb5b6UtBZ41Wy90MTkw.jpeg' width='600' hight='600'>"
   ]
  },
  {
   "cell_type": "markdown",
   "id": "790e6a21",
   "metadata": {},
   "source": [
    "### Caution:\n",
    "* Polynomial methods are used when our data is non-linearly distributed.\n",
    "* We can choose dgree of polynomial according to the requirment.\n",
    "* If the volume of data is high & degree of polynomial is also high then we need high computation power.(Time Taking)\n",
    "* Gerneraly we don't use it."
   ]
  },
  {
   "cell_type": "markdown",
   "id": "ddbe4f20",
   "metadata": {},
   "source": [
    "## Polynomials Degree vs Graphs:"
   ]
  },
  {
   "cell_type": "markdown",
   "id": "a5fdc946",
   "metadata": {},
   "source": [
    "## Practical: Banglore House Prediction cleaned dataset:"
   ]
  },
  {
   "cell_type": "markdown",
   "id": "a9d6c710",
   "metadata": {},
   "source": [
    "### Step 1: Loading The Libraries:"
   ]
  },
  {
   "cell_type": "code",
   "execution_count": 1,
   "id": "23709f01",
   "metadata": {},
   "outputs": [],
   "source": [
    "import pandas as pd\n",
    "import numpy as np"
   ]
  },
  {
   "cell_type": "markdown",
   "id": "a416592d",
   "metadata": {},
   "source": [
    "### Step 2: Loading The Cleaned Dataset:"
   ]
  },
  {
   "cell_type": "code",
   "execution_count": 3,
   "id": "699efa0d",
   "metadata": {},
   "outputs": [],
   "source": [
    "df=pd.read_csv('Cleaned Banglore House Price Prediction Data.csv')"
   ]
  },
  {
   "cell_type": "code",
   "execution_count": 4,
   "id": "66475706",
   "metadata": {},
   "outputs": [
    {
     "data": {
      "text/html": [
       "<div>\n",
       "<style scoped>\n",
       "    .dataframe tbody tr th:only-of-type {\n",
       "        vertical-align: middle;\n",
       "    }\n",
       "\n",
       "    .dataframe tbody tr th {\n",
       "        vertical-align: top;\n",
       "    }\n",
       "\n",
       "    .dataframe thead th {\n",
       "        text-align: right;\n",
       "    }\n",
       "</style>\n",
       "<table border=\"1\" class=\"dataframe\">\n",
       "  <thead>\n",
       "    <tr style=\"text-align: right;\">\n",
       "      <th></th>\n",
       "      <th>area_type</th>\n",
       "      <th>availability</th>\n",
       "      <th>location</th>\n",
       "      <th>bath</th>\n",
       "      <th>balcony</th>\n",
       "      <th>price</th>\n",
       "      <th>new_size</th>\n",
       "      <th>new_total_sqft</th>\n",
       "      <th>price_per_sqft</th>\n",
       "    </tr>\n",
       "  </thead>\n",
       "  <tbody>\n",
       "    <tr>\n",
       "      <th>0</th>\n",
       "      <td>3</td>\n",
       "      <td>38</td>\n",
       "      <td>341</td>\n",
       "      <td>2.0</td>\n",
       "      <td>1.0</td>\n",
       "      <td>39.07</td>\n",
       "      <td>2</td>\n",
       "      <td>1056.0</td>\n",
       "      <td>3699.810606</td>\n",
       "    </tr>\n",
       "    <tr>\n",
       "      <th>1</th>\n",
       "      <td>2</td>\n",
       "      <td>77</td>\n",
       "      <td>251</td>\n",
       "      <td>5.0</td>\n",
       "      <td>3.0</td>\n",
       "      <td>120.00</td>\n",
       "      <td>4</td>\n",
       "      <td>2600.0</td>\n",
       "      <td>4615.384615</td>\n",
       "    </tr>\n",
       "    <tr>\n",
       "      <th>2</th>\n",
       "      <td>0</td>\n",
       "      <td>77</td>\n",
       "      <td>964</td>\n",
       "      <td>2.0</td>\n",
       "      <td>3.0</td>\n",
       "      <td>62.00</td>\n",
       "      <td>3</td>\n",
       "      <td>1440.0</td>\n",
       "      <td>4305.555556</td>\n",
       "    </tr>\n",
       "    <tr>\n",
       "      <th>3</th>\n",
       "      <td>3</td>\n",
       "      <td>77</td>\n",
       "      <td>629</td>\n",
       "      <td>3.0</td>\n",
       "      <td>1.0</td>\n",
       "      <td>95.00</td>\n",
       "      <td>3</td>\n",
       "      <td>1521.0</td>\n",
       "      <td>6245.890861</td>\n",
       "    </tr>\n",
       "    <tr>\n",
       "      <th>4</th>\n",
       "      <td>3</td>\n",
       "      <td>77</td>\n",
       "      <td>592</td>\n",
       "      <td>2.0</td>\n",
       "      <td>1.0</td>\n",
       "      <td>51.00</td>\n",
       "      <td>2</td>\n",
       "      <td>1200.0</td>\n",
       "      <td>4250.000000</td>\n",
       "    </tr>\n",
       "  </tbody>\n",
       "</table>\n",
       "</div>"
      ],
      "text/plain": [
       "   area_type  availability  location  bath  balcony   price  new_size  \\\n",
       "0          3            38       341   2.0      1.0   39.07         2   \n",
       "1          2            77       251   5.0      3.0  120.00         4   \n",
       "2          0            77       964   2.0      3.0   62.00         3   \n",
       "3          3            77       629   3.0      1.0   95.00         3   \n",
       "4          3            77       592   2.0      1.0   51.00         2   \n",
       "\n",
       "   new_total_sqft  price_per_sqft  \n",
       "0          1056.0     3699.810606  \n",
       "1          2600.0     4615.384615  \n",
       "2          1440.0     4305.555556  \n",
       "3          1521.0     6245.890861  \n",
       "4          1200.0     4250.000000  "
      ]
     },
     "execution_count": 4,
     "metadata": {},
     "output_type": "execute_result"
    }
   ],
   "source": [
    "df.head()"
   ]
  },
  {
   "cell_type": "markdown",
   "id": "4597e991",
   "metadata": {},
   "source": [
    "### Step 3: Spliting the dataset:"
   ]
  },
  {
   "cell_type": "code",
   "execution_count": 26,
   "id": "cf34b165",
   "metadata": {},
   "outputs": [
    {
     "name": "stdout",
     "output_type": "stream",
     "text": [
      "Shape of X =  (11018, 8)\n",
      "Shape of y =  (11018,)\n"
     ]
    }
   ],
   "source": [
    "X=df.drop('price',axis=1)\n",
    "y=df['price']\n",
    "\n",
    "print('Shape of X = ', X.shape)\n",
    "print('Shape of y = ',y.shape)"
   ]
  },
  {
   "cell_type": "code",
   "execution_count": 27,
   "id": "06a8a599",
   "metadata": {},
   "outputs": [
    {
     "name": "stdout",
     "output_type": "stream",
     "text": [
      "Shape of X_train =  (7712, 8)\n",
      "Shape of y_train =  (7712,)\n",
      "Shape of X_test =  (3306, 8)\n",
      "Shape of y_test =  (3306,)\n"
     ]
    }
   ],
   "source": [
    "# Test & Train split\n",
    "from sklearn.model_selection import train_test_split\n",
    "X_train,X_test, y_train, y_test = train_test_split(X,y,test_size=.3,random_state=65)\n",
    "\n",
    "print('Shape of X_train = ',X_train.shape)\n",
    "print('Shape of y_train = ', y_train.shape)\n",
    "print('Shape of X_test = ', X_test.shape)\n",
    "print('Shape of y_test = ',y_test.shape)"
   ]
  },
  {
   "cell_type": "markdown",
   "id": "2f25f9ae",
   "metadata": {},
   "source": [
    "### Step 4: Feature Scaling (changing into array):"
   ]
  },
  {
   "cell_type": "code",
   "execution_count": 28,
   "id": "45dd79c8",
   "metadata": {},
   "outputs": [],
   "source": [
    "from sklearn.preprocessing import StandardScaler\n",
    "sc=StandardScaler()\n",
    "sc.fit(X_train)\n",
    "X_train = sc.transform(X_train)\n",
    "X_test = sc.transform(X_test)"
   ]
  },
  {
   "cell_type": "markdown",
   "id": "3e974696",
   "metadata": {},
   "source": [
    "### Step 5: Polynomial Linear Regression - ML Model Training"
   ]
  },
  {
   "cell_type": "code",
   "execution_count": 30,
   "id": "56f06e87",
   "metadata": {},
   "outputs": [],
   "source": [
    "# Importing the models:\n",
    "from sklearn.linear_model import LinearRegression\n",
    "from sklearn.preprocessing import PolynomialFeatures\n",
    "\n",
    "lr=LinearRegression()\n",
    "pf=PolynomialFeatures"
   ]
  },
  {
   "cell_type": "code",
   "execution_count": 31,
   "id": "6770bd9a",
   "metadata": {},
   "outputs": [],
   "source": [
    "# Fitting the model into polynomial form:\n",
    "poly_reg=pf(degree=2)\n",
    "poly_reg.fit(X_train)\n",
    "X_train_poly=poly_reg.transform(X_train)\n",
    "X_test_poly=poly_reg.transform(X_test)"
   ]
  },
  {
   "cell_type": "code",
   "execution_count": 32,
   "id": "e701f5e6",
   "metadata": {},
   "outputs": [
    {
     "data": {
      "text/plain": [
       "((7712, 45), (3306, 45))"
      ]
     },
     "execution_count": 32,
     "metadata": {},
     "output_type": "execute_result"
    }
   ],
   "source": [
    "# Checking the dataset:\n",
    "X_train_poly.shape, X_test_poly.shape"
   ]
  },
  {
   "cell_type": "markdown",
   "id": "e7307d73",
   "metadata": {},
   "source": [
    "#### Note:\n",
    "* The number of columns increases more than five time using the polynomial regression."
   ]
  },
  {
   "cell_type": "code",
   "execution_count": 33,
   "id": "daa8df72",
   "metadata": {},
   "outputs": [
    {
     "data": {
      "text/plain": [
       "LinearRegression()"
      ]
     },
     "execution_count": 33,
     "metadata": {},
     "output_type": "execute_result"
    }
   ],
   "source": [
    "# Now we use lInear Regression Model for our polinomial fitting:\n",
    "lr.fit(X_train_poly, y_train)"
   ]
  },
  {
   "cell_type": "markdown",
   "id": "e02f5773",
   "metadata": {},
   "source": [
    "### Step 6: Testing The Model's Score:"
   ]
  },
  {
   "cell_type": "code",
   "execution_count": 34,
   "id": "f023e4db",
   "metadata": {},
   "outputs": [
    {
     "data": {
      "text/plain": [
       "1.0"
      ]
     },
     "execution_count": 34,
     "metadata": {},
     "output_type": "execute_result"
    }
   ],
   "source": [
    "lr.score(X_test_poly,y_test,)"
   ]
  },
  {
   "cell_type": "markdown",
   "id": "60c7cf2a",
   "metadata": {},
   "source": [
    "### Conclusion:\n",
    "* Our score is `1 means 100%` which is the best score."
   ]
  },
  {
   "cell_type": "markdown",
   "id": "bc6e91af",
   "metadata": {},
   "source": [
    "### Step 7: Predict The Price Using This Model:"
   ]
  },
  {
   "cell_type": "code",
   "execution_count": 38,
   "id": "1e658a4b",
   "metadata": {},
   "outputs": [
    {
     "data": {
      "text/plain": [
       "array([98.])"
      ]
     },
     "execution_count": 38,
     "metadata": {},
     "output_type": "execute_result"
    }
   ],
   "source": [
    "# Single (0th position) house price prediction:\n",
    "lr.predict([X_test_poly[0,:]])"
   ]
  },
  {
   "cell_type": "code",
   "execution_count": 41,
   "id": "171c58ca",
   "metadata": {},
   "outputs": [
    {
     "data": {
      "text/plain": [
       "array([98.  , 55.  , 38.08, ..., 46.  , 77.  , 24.  ])"
      ]
     },
     "execution_count": 41,
     "metadata": {},
     "output_type": "execute_result"
    }
   ],
   "source": [
    "# Multiple house price (X_test_poly) price prediction:\n",
    "y_pred=lr.predict(X_test_poly)\n",
    "y_pred"
   ]
  },
  {
   "cell_type": "markdown",
   "id": "c2e0c8bc",
   "metadata": {},
   "source": [
    "### Step 8: Verify with actual value:"
   ]
  },
  {
   "cell_type": "code",
   "execution_count": 40,
   "id": "0c16e5c0",
   "metadata": {},
   "outputs": [
    {
     "data": {
      "text/plain": [
       "7600     98.00\n",
       "8647     55.00\n",
       "9936     38.08\n",
       "8973     45.00\n",
       "8471     60.48\n",
       "         ...  \n",
       "9464     54.00\n",
       "4366     55.00\n",
       "10740    46.00\n",
       "2909     77.00\n",
       "2771     24.00\n",
       "Name: price, Length: 3306, dtype: float64"
      ]
     },
     "execution_count": 40,
     "metadata": {},
     "output_type": "execute_result"
    }
   ],
   "source": [
    "y_test"
   ]
  },
  {
   "cell_type": "markdown",
   "id": "11fedaac",
   "metadata": {},
   "source": [
    "### Step 9: Error Finding:"
   ]
  },
  {
   "cell_type": "code",
   "execution_count": 46,
   "id": "ba4045ec",
   "metadata": {},
   "outputs": [
    {
     "name": "stdout",
     "output_type": "stream",
     "text": [
      "Mean Squre Error =  2.4235861960027646e-25\n",
      "Root Mean Square Error =  4.922993191141711e-13\n"
     ]
    }
   ],
   "source": [
    "# Using RMSE\n",
    "from sklearn.metrics import mean_squared_error\n",
    "mse = mean_squared_error(y_test,y_pred)\n",
    "rmse = np.sqrt(mse)\n",
    "\n",
    "print('Mean Squre Error = ',mse)\n",
    "print('Root Mean Square Error = ',rmse)"
   ]
  },
  {
   "cell_type": "markdown",
   "id": "0791465b",
   "metadata": {},
   "source": [
    "### Conclusion:\n",
    "* We can see these errors are very less in in rounded form they are Zero."
   ]
  },
  {
   "cell_type": "code",
   "execution_count": null,
   "id": "a091a2d7",
   "metadata": {},
   "outputs": [],
   "source": []
  }
 ],
 "metadata": {
  "kernelspec": {
   "display_name": "Python 3 (ipykernel)",
   "language": "python",
   "name": "python3"
  },
  "language_info": {
   "codemirror_mode": {
    "name": "ipython",
    "version": 3
   },
   "file_extension": ".py",
   "mimetype": "text/x-python",
   "name": "python",
   "nbconvert_exporter": "python",
   "pygments_lexer": "ipython3",
   "version": "3.9.12"
  }
 },
 "nbformat": 4,
 "nbformat_minor": 5
}
