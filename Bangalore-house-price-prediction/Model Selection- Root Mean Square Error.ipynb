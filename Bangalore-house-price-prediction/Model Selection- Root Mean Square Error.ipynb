{
 "cells": [
  {
   "cell_type": "markdown",
   "id": "94182e6c",
   "metadata": {},
   "source": [
    "# Root Mean Square Error:"
   ]
  },
  {
   "cell_type": "markdown",
   "id": "5cd0b146",
   "metadata": {},
   "source": [
    "![](https://www.machinelearningplus.com/wp-content/uploads/2019/11/PCA_Scatterplot-min.png)"
   ]
  },
  {
   "cell_type": "markdown",
   "id": "5b349f8b",
   "metadata": {},
   "source": [
    "## Outline:\n",
    "* What is an error?\n",
    "* What is Mean Absolute Error?\n",
    "* What is Mean Square Error?\n",
    "* What is Root Mean Square Error?\n",
    "* Practical"
   ]
  },
  {
   "cell_type": "markdown",
   "id": "10e32a7d",
   "metadata": {},
   "source": [
    "## What is Error:\n",
    "<img src='https://images.squarespace-cdn.com/content/v1/58c95854c534a56689231265/1531151917631-MP881P65V9DJT0D4G0X9/ke17ZwdGBToddI8pDm48kPmLlvCIXgndBxNq9fzeZb1Zw-zPPgdn4jUwVcJE1ZvWQUxwkmyExglNqGp0IvTJZamWLI2zvYWH8K3-s_4yszcp2ryTI0HqTOaaUohrI8PIFMLRh9LbupWL4Bv1SDYZc4lRApws2Snwk0j_RSxbNHMKMshLAGzx4R3EDFOm1kBS/Figura0.jpg' width='600' hight='600'>"
   ]
  },
  {
   "cell_type": "markdown",
   "id": "6aa72833",
   "metadata": {},
   "source": [
    "### Note:\n",
    "* The difference between Actual value (Blue Point Data) and the predicted value (Corresponding point on Red line) is called an error.\n",
    "* We always try to minimize or make it Zero."
   ]
  },
  {
   "cell_type": "markdown",
   "id": "eb6b9c27",
   "metadata": {},
   "source": [
    "## What is the difference between MAE, MSE & RMSE?\n",
    "After looking at the data, seeing a linear relationship, training and testing our model, we can understand how well it predicts by using some metrics. For regression models, three evaluation metrics are mainly used:"
   ]
  },
  {
   "attachments": {
    "Screenshot%202023-02-01%20163304.jpg": {
     "image/jpeg": "[encoded data removed]"
    }
   },
   "cell_type": "markdown",
   "id": "10d67133",
   "metadata": {},
   "source": [
    "### Mean Absloute Error (MAE):\n",
    "When we subtract the predicted values from the actual values, obtaining the errors, sum the absolute values of those errors and get their mean. This metric gives a notion of the overall error for each prediction of the model, the smaller (closer to 0) the better.\n",
    "![Screenshot%202023-02-01%20163304.jpg](attachment:Screenshot%202023-02-01%20163304.jpg)"
   ]
  },
  {
   "attachments": {
    "Screenshot%202023-02-01%20163326.jpg": {
     "image/jpeg": "[encoded data removed]"
    }
   },
   "cell_type": "markdown",
   "id": "4fb99b24",
   "metadata": {},
   "source": [
    "### Mean Squared Error (MSE): \n",
    "It is similar to the MAE metric, but it squares the absolute values of the errors. Also, as with MAE, the smaller, or closer to 0, the better. The MSE value is squared so as to make large errors even larger. One thing to pay close attention to, it that it is usually a hard metric to interpret due to the size of its values and of the fact that they aren't in the same scale of the data.\n",
    "![Screenshot%202023-02-01%20163326.jpg](attachment:Screenshot%202023-02-01%20163326.jpg)"
   ]
  },
  {
   "cell_type": "markdown",
   "id": "c4b05104",
   "metadata": {},
   "source": [
    "### Root Mean Square Error (RMSE):\n",
    "Tries to solve the interpretation problem raised with the MSE by getting the square root of its final value, so as to scale it back to the same units of the data. It is easier to interpret and good when we need to display or show the actual value of the data with the error. It shows how much the data may vary, so, if we have an RMSE of 4.35, our model can make an error either because it added 4.35 to the actual value, or needed 4.35 to get to the actual value. The closer to 0, the better as well.\n",
    "<img src='https://miro.medium.com/max/1040/0*at-j68ROeSmiruDE.png' width='400' hight='400' > \n"
   ]
  },
  {
   "cell_type": "markdown",
   "id": "ed308087",
   "metadata": {},
   "source": [
    "We can use any of those three metrics to compare models (if we need to choose one). We can also compare the same regression model with different argument values or with different data and then consider the evaluation metrics. This is known as hyperparameter tuning - tuning the hyperparameters that influence a learning algorithm and observing the results.\n",
    "\n",
    "When choosing between models, the ones with the smallest errors, usually perform better. When monitoring models, if the metrics got worse, then a previous version of the model was better, or there was some significant alteration in the data for the model to perform worse than it was performing.\n",
    "\n",
    "Luckily, we don't have to do any of the metrics calculations manually. The Scikit-Learn package already comes with functions that can be used to find out the values of these metrics for us. Let's find the values for these metrics using our test data. First, we will import the necessary modules for calculating the MAE and MSE errors. Respectively, the mean_absolute_error and mean_squared_error:"
   ]
  },
  {
   "cell_type": "markdown",
   "id": "31635c5a",
   "metadata": {},
   "source": [
    "## Note:\n",
    "* To choose the best model we calculate these error. (Mainly RMSE)\n",
    "* The lowest is best infact we try to choose Zero Error Model.\n",
    "* If the `Error > 0` then model is `Overfit`.\n",
    "* If the `Error < 0` then model is `underfit`.\n",
    "* If the `Error = 0` then model is `bestfit`."
   ]
  },
  {
   "cell_type": "markdown",
   "id": "68e4356b",
   "metadata": {},
   "source": [
    "## Practical: We use the Banglore House Prediction cleaned data"
   ]
  },
  {
   "cell_type": "markdown",
   "id": "665f7ed5",
   "metadata": {},
   "source": [
    "### Step 1: Loading the libraries:"
   ]
  },
  {
   "cell_type": "code",
   "execution_count": 1,
   "id": "93affa6d",
   "metadata": {},
   "outputs": [],
   "source": [
    "import numpy as np\n",
    "import pandas as pd\n",
    "import matplotlib.pyplot as plt\n",
    "import seaborn as sns"
   ]
  },
  {
   "cell_type": "markdown",
   "id": "7f775321",
   "metadata": {},
   "source": [
    "### Step 2: Loading The Dataset:"
   ]
  },
  {
   "cell_type": "code",
   "execution_count": 2,
   "id": "a3e12896",
   "metadata": {},
   "outputs": [],
   "source": [
    "df=pd.read_csv('Cleaned Banglore House Price Prediction Data.csv')"
   ]
  },
  {
   "cell_type": "code",
   "execution_count": 3,
   "id": "36452a01",
   "metadata": {},
   "outputs": [
    {
     "data": {
      "text/html": [
       "<div>\n",
       "<style scoped>\n",
       "    .dataframe tbody tr th:only-of-type {\n",
       "        vertical-align: middle;\n",
       "    }\n",
       "\n",
       "    .dataframe tbody tr th {\n",
       "        vertical-align: top;\n",
       "    }\n",
       "\n",
       "    .dataframe thead th {\n",
       "        text-align: right;\n",
       "    }\n",
       "</style>\n",
       "<table border=\"1\" class=\"dataframe\">\n",
       "  <thead>\n",
       "    <tr style=\"text-align: right;\">\n",
       "      <th></th>\n",
       "      <th>area_type</th>\n",
       "      <th>availability</th>\n",
       "      <th>location</th>\n",
       "      <th>bath</th>\n",
       "      <th>balcony</th>\n",
       "      <th>price</th>\n",
       "      <th>new_size</th>\n",
       "      <th>new_total_sqft</th>\n",
       "      <th>price_per_sqft</th>\n",
       "    </tr>\n",
       "  </thead>\n",
       "  <tbody>\n",
       "    <tr>\n",
       "      <th>0</th>\n",
       "      <td>3</td>\n",
       "      <td>38</td>\n",
       "      <td>341</td>\n",
       "      <td>2.0</td>\n",
       "      <td>1.0</td>\n",
       "      <td>39.07</td>\n",
       "      <td>2</td>\n",
       "      <td>1056.0</td>\n",
       "      <td>3699.810606</td>\n",
       "    </tr>\n",
       "    <tr>\n",
       "      <th>1</th>\n",
       "      <td>2</td>\n",
       "      <td>77</td>\n",
       "      <td>251</td>\n",
       "      <td>5.0</td>\n",
       "      <td>3.0</td>\n",
       "      <td>120.00</td>\n",
       "      <td>4</td>\n",
       "      <td>2600.0</td>\n",
       "      <td>4615.384615</td>\n",
       "    </tr>\n",
       "    <tr>\n",
       "      <th>2</th>\n",
       "      <td>0</td>\n",
       "      <td>77</td>\n",
       "      <td>964</td>\n",
       "      <td>2.0</td>\n",
       "      <td>3.0</td>\n",
       "      <td>62.00</td>\n",
       "      <td>3</td>\n",
       "      <td>1440.0</td>\n",
       "      <td>4305.555556</td>\n",
       "    </tr>\n",
       "    <tr>\n",
       "      <th>3</th>\n",
       "      <td>3</td>\n",
       "      <td>77</td>\n",
       "      <td>629</td>\n",
       "      <td>3.0</td>\n",
       "      <td>1.0</td>\n",
       "      <td>95.00</td>\n",
       "      <td>3</td>\n",
       "      <td>1521.0</td>\n",
       "      <td>6245.890861</td>\n",
       "    </tr>\n",
       "    <tr>\n",
       "      <th>4</th>\n",
       "      <td>3</td>\n",
       "      <td>77</td>\n",
       "      <td>592</td>\n",
       "      <td>2.0</td>\n",
       "      <td>1.0</td>\n",
       "      <td>51.00</td>\n",
       "      <td>2</td>\n",
       "      <td>1200.0</td>\n",
       "      <td>4250.000000</td>\n",
       "    </tr>\n",
       "  </tbody>\n",
       "</table>\n",
       "</div>"
      ],
      "text/plain": [
       "   area_type  availability  location  bath  balcony   price  new_size  \\\n",
       "0          3            38       341   2.0      1.0   39.07         2   \n",
       "1          2            77       251   5.0      3.0  120.00         4   \n",
       "2          0            77       964   2.0      3.0   62.00         3   \n",
       "3          3            77       629   3.0      1.0   95.00         3   \n",
       "4          3            77       592   2.0      1.0   51.00         2   \n",
       "\n",
       "   new_total_sqft  price_per_sqft  \n",
       "0          1056.0     3699.810606  \n",
       "1          2600.0     4615.384615  \n",
       "2          1440.0     4305.555556  \n",
       "3          1521.0     6245.890861  \n",
       "4          1200.0     4250.000000  "
      ]
     },
     "execution_count": 3,
     "metadata": {},
     "output_type": "execute_result"
    }
   ],
   "source": [
    "df.head()"
   ]
  },
  {
   "cell_type": "markdown",
   "id": "9e788bee",
   "metadata": {},
   "source": [
    "#### Note:\n",
    "* This is our cleaned data we have cleaned this in Linera Regression Model.\n",
    "* Now again we use `Linear Regression` use perform the `Ridge & Lasso` techniques."
   ]
  },
  {
   "cell_type": "markdown",
   "id": "1255f813",
   "metadata": {},
   "source": [
    "### Step 3: Performing The Linear Regression Method:"
   ]
  },
  {
   "cell_type": "code",
   "execution_count": 5,
   "id": "a038f6d5",
   "metadata": {},
   "outputs": [
    {
     "name": "stdout",
     "output_type": "stream",
     "text": [
      "Shape of X: (11018, 8)\n",
      "Shape of y: (11018,)\n"
     ]
    }
   ],
   "source": [
    "# Spliting the dataset into Target (y) and Features(X) variables:\n",
    "X=df.drop('price',axis=1)\n",
    "y=df['price']\n",
    "\n",
    "print('Shape of X:', X.shape)\n",
    "print('Shape of y:',y.shape)"
   ]
  },
  {
   "cell_type": "code",
   "execution_count": 6,
   "id": "0ad9ef83",
   "metadata": {},
   "outputs": [],
   "source": [
    "from sklearn.model_selection import train_test_split"
   ]
  },
  {
   "cell_type": "code",
   "execution_count": 7,
   "id": "8656adb6",
   "metadata": {},
   "outputs": [
    {
     "name": "stdout",
     "output_type": "stream",
     "text": [
      "Shape of X_train =  (8814, 8)\n",
      "Shape of y_train =  (8814,)\n",
      "Shape of X_test =  (2204, 8)\n",
      "Shape of y_test =  (2204,)\n"
     ]
    }
   ],
   "source": [
    "# Spliting the data into train & test part:\n",
    "X_train, X_test, y_train, y_test = train_test_split(X,y,test_size=.2, random_state=6)\n",
    "\n",
    "print('Shape of X_train = ', X_train.shape)\n",
    "print('Shape of y_train = ', y_train.shape)\n",
    "print('Shape of X_test = ', X_test.shape)\n",
    "print('Shape of y_test = ', y_test.shape)"
   ]
  },
  {
   "cell_type": "code",
   "execution_count": 8,
   "id": "6e282d6b",
   "metadata": {},
   "outputs": [],
   "source": [
    "'''\n",
    "Feature scalling of the dataset: We'll normalize the different numerica value of the data \n",
    "                                 so that machine can easly understand.\n",
    "'''\n",
    "from sklearn.preprocessing import StandardScaler\n",
    "sc=StandardScaler()\n",
    "sc.fit(X_train)\n",
    "X_train=sc.transform(X_train)\n",
    "X_test=sc.transform(X_test)"
   ]
  },
  {
   "cell_type": "code",
   "execution_count": 9,
   "id": "40444b17",
   "metadata": {},
   "outputs": [
    {
     "data": {
      "text/plain": [
       "LinearRegression()"
      ]
     },
     "execution_count": 9,
     "metadata": {},
     "output_type": "execute_result"
    }
   ],
   "source": [
    "# Linear Regression ML Model Training:\n",
    "from sklearn.linear_model import LinearRegression\n",
    "lr=LinearRegression()\n",
    "\n",
    "lr.fit(X_train,y_train)"
   ]
  },
  {
   "cell_type": "code",
   "execution_count": 10,
   "id": "09fcd43b",
   "metadata": {},
   "outputs": [
    {
     "data": {
      "text/plain": [
       "array([ 0.15192576, -0.42192927, -0.22437487, -0.17351644,  0.15535644,\n",
       "       -4.40445112, 55.26726976, 25.18508851])"
      ]
     },
     "execution_count": 10,
     "metadata": {},
     "output_type": "execute_result"
    }
   ],
   "source": [
    "'''Exploring The Trained Data\n",
    "'''\n",
    "# Seeing the coefficent values:\n",
    "lr.coef_"
   ]
  },
  {
   "cell_type": "code",
   "execution_count": 11,
   "id": "083aa417",
   "metadata": {},
   "outputs": [
    {
     "data": {
      "text/plain": [
       "82.08727989562063"
      ]
     },
     "execution_count": 11,
     "metadata": {},
     "output_type": "execute_result"
    }
   ],
   "source": [
    "# Seeing the intersect value:\n",
    "lr.intercept_"
   ]
  },
  {
   "cell_type": "code",
   "execution_count": 12,
   "id": "dd538ef1",
   "metadata": {},
   "outputs": [
    {
     "data": {
      "text/plain": [
       "array([107.6745738 ,  34.500194  ,  60.94472328, ...,  82.4907132 ,\n",
       "       147.67319159, 163.35794178])"
      ]
     },
     "execution_count": 12,
     "metadata": {},
     "output_type": "execute_result"
    }
   ],
   "source": [
    "# Testing the model:\n",
    "lr.predict(X_test)"
   ]
  },
  {
   "cell_type": "code",
   "execution_count": 13,
   "id": "6ebe74fc",
   "metadata": {},
   "outputs": [
    {
     "data": {
      "text/plain": [
       "4064     104.00\n",
       "7855      42.81\n",
       "10856     61.11\n",
       "4491      47.00\n",
       "9184      33.50\n",
       "          ...  \n",
       "3991      75.00\n",
       "26        57.39\n",
       "9239      80.00\n",
       "8944     150.00\n",
       "10194    170.00\n",
       "Name: price, Length: 2204, dtype: float64"
      ]
     },
     "execution_count": 13,
     "metadata": {},
     "output_type": "execute_result"
    }
   ],
   "source": [
    "# Verifing the actual values:\n",
    "y_test"
   ]
  },
  {
   "cell_type": "code",
   "execution_count": 14,
   "id": "76df4d3c",
   "metadata": {},
   "outputs": [
    {
     "data": {
      "text/plain": [
       "0.94471512931249"
      ]
     },
     "execution_count": 14,
     "metadata": {},
     "output_type": "execute_result"
    }
   ],
   "source": [
    "# Checking the accuracy of the model:\n",
    "lr.score(X_test,y_test)"
   ]
  },
  {
   "cell_type": "markdown",
   "id": "cd354a2f",
   "metadata": {},
   "source": [
    "### Conclusion:\n",
    "* Our model is give us `94.4715%` accureacy which is impressive.\n",
    "* Now we need to evaluate the model."
   ]
  },
  {
   "cell_type": "markdown",
   "id": "1511c7da",
   "metadata": {},
   "source": [
    "### Step 4: Model Evaluation:"
   ]
  },
  {
   "cell_type": "markdown",
   "id": "e578c177",
   "metadata": {},
   "source": [
    "### Root Mean Square Error:"
   ]
  },
  {
   "cell_type": "code",
   "execution_count": 18,
   "id": "e365ddec",
   "metadata": {},
   "outputs": [
    {
     "data": {
      "text/plain": [
       "array([107.6745738 ,  34.500194  ,  60.94472328, ...,  82.4907132 ,\n",
       "       147.67319159, 163.35794178])"
      ]
     },
     "execution_count": 18,
     "metadata": {},
     "output_type": "execute_result"
    }
   ],
   "source": [
    "# Predict the price (y^)\n",
    "y_pred = lr.predict(X_test)\n",
    "y_pred"
   ]
  },
  {
   "cell_type": "code",
   "execution_count": 19,
   "id": "ab968159",
   "metadata": {},
   "outputs": [
    {
     "data": {
      "text/plain": [
       "4064     104.00\n",
       "7855      42.81\n",
       "10856     61.11\n",
       "4491      47.00\n",
       "9184      33.50\n",
       "          ...  \n",
       "3991      75.00\n",
       "26        57.39\n",
       "9239      80.00\n",
       "8944     150.00\n",
       "10194    170.00\n",
       "Name: price, Length: 2204, dtype: float64"
      ]
     },
     "execution_count": 19,
     "metadata": {},
     "output_type": "execute_result"
    }
   ],
   "source": [
    "# Actual price (y)\n",
    "y_test"
   ]
  },
  {
   "cell_type": "code",
   "execution_count": 20,
   "id": "51db3c02",
   "metadata": {},
   "outputs": [],
   "source": [
    "# Using sklearn we use MSE:\n",
    "from sklearn.metrics import mean_squared_error #Max Use"
   ]
  },
  {
   "cell_type": "code",
   "execution_count": 21,
   "id": "25525eb8",
   "metadata": {},
   "outputs": [
    {
     "name": "stdout",
     "output_type": "stream",
     "text": [
      "MSE= 185.46172757515046\n",
      "RMSE= 13.61843337447999\n"
     ]
    }
   ],
   "source": [
    "mse=mean_squared_error(y_test, y_pred)\n",
    "rmse= np.sqrt(mse)\n",
    "\n",
    "print('MSE=',mse)\n",
    "print('RMSE=',rmse)"
   ]
  },
  {
   "cell_type": "markdown",
   "id": "ed0710c0",
   "metadata": {},
   "source": [
    "### Conclusion:\n",
    "* Our RMSE is `13.61` which good but we need to reduce this using other model or revisit the cleaning data."
   ]
  },
  {
   "cell_type": "code",
   "execution_count": null,
   "id": "30315b34",
   "metadata": {},
   "outputs": [],
   "source": []
  }
 ],
 "metadata": {
  "kernelspec": {
   "display_name": "Python 3 (ipykernel)",
   "language": "python",
   "name": "python3"
  },
  "language_info": {
   "codemirror_mode": {
    "name": "ipython",
    "version": 3
   },
   "file_extension": ".py",
   "mimetype": "text/x-python",
   "name": "python",
   "nbconvert_exporter": "python",
   "pygments_lexer": "ipython3",
   "version": "3.9.12"
  }
 },
 "nbformat": 4,
 "nbformat_minor": 5
}
